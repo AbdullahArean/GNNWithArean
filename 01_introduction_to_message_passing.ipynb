{
  "cells": [
    {
      "cell_type": "markdown",
      "metadata": {},
      "source": [
        "# Introduction to Message Passing in Graph Neural Networks\n",
        "\n",
        "## Learning Objectives\n",
        "\n",
        "By the end of this notebook, you will be able to:\n",
        "- Understand the fundamental concept of message passing in graphs\n",
        "- Express message passing as matrix multiplication operations\n",
        "- Implement neighborhood aggregation (sum and average)\n",
        "- Compute and apply normalized adjacency matrices for GNNs\n",
        "- Visualize how information propagates through a graph via message passing\n",
        "\n",
        "## Prerequisites\n",
        "\n",
        "- Basic understanding of linear algebra (matrix multiplication)\n",
        "- Familiarity with NumPy\n",
        "- Basic graph theory concepts (nodes, edges, adjacency matrices)\n",
        "\n",
        "---\n",
        "\n",
        "## What is Message Passing?\n",
        "\n",
        "**Message passing** is the core mechanism of Graph Neural Networks (GNNs). It allows nodes in a graph to gather information from their neighboring nodes.\n",
        "\n",
        "**Key Idea**: Each node aggregates information from its neighbors and combines it with its own features to create an updated representation.\n",
        "\n",
        "**Mathematical Formulation**: For a node $i$ with feature vector $h_i$, the message passing can be written as:\n",
        "\n",
        "$$h_i^{(l+1)} = \\text{AGGREGATE}(\\{h_j^{(l)} : j \\in \\mathcal{N}(i)\\})$$\n",
        "\n",
        "where $\\mathcal{N}(i)$ represents the neighbors of node $i$, and AGGREGATE is typically a sum or average operation.\n"
      ]
    },
    {
      "cell_type": "code",
      "execution_count": 1,
      "metadata": {
        "id": "BYlZuCmh-9oa"
      },
      "outputs": [
        {
          "name": "stdout",
          "output_type": "stream",
          "text": [
            "✅ All libraries imported successfully!\n",
            "NumPy version: 2.2.6\n"
          ]
        }
      ],
      "source": [
        "# Import necessary libraries\n",
        "import numpy as np\n",
        "from scipy.linalg import sqrtm\n",
        "import networkx as nx\n",
        "import matplotlib.pyplot as plt\n",
        "from matplotlib import animation\n",
        "%matplotlib inline\n",
        "from IPython.display import HTML\n",
        "\n",
        "print(\"✅ All libraries imported successfully!\")\n",
        "print(f\"NumPy version: {np.__version__}\")"
      ]
    },
    {
      "cell_type": "markdown",
      "metadata": {
        "id": "abxDQ65V-9of"
      },
      "source": [
        "## Part 1: Simple Message Passing as Matrix Multiplication\n",
        "\n",
        "In this section, we'll see how message passing can be implemented using simple matrix multiplication.\n",
        "\n",
        "### Setting Up a Simple Graph\n",
        "\n",
        "Let's start with a small 5-node graph to visualize the concepts clearly.\n",
        "\n",
        "**Step 1: Define the Adjacency Matrix**\n",
        "\n",
        "The adjacency matrix $A$ represents the connectivity of the graph. \n",
        "- $A_{ij} = 1$ if there is an edge from node $i$ to node $j$\n",
        "- $A_{ij} = 0$ otherwise\n",
        "\n",
        "In our example graph:\n",
        "- Node 0 is connected to node 1\n",
        "- Node 1 is connected to nodes 0 and 2\n",
        "- Node 2 is connected to nodes 1, 3, and 4\n",
        "- Node 3 is connected to node 2\n",
        "- Node 4 is connected to node 2"
      ]
    },
    {
      "cell_type": "code",
      "execution_count": 2,
      "metadata": {
        "colab": {
          "base_uri": "https://localhost:8080/"
        },
        "id": "K4tuHnHX-9oi",
        "outputId": "4732b150-ba87-4bcf-bde8-f4b4dc16812b"
      },
      "outputs": [
        {
          "name": "stdout",
          "output_type": "stream",
          "text": [
            "Adjacency Matrix A:\n",
            "[[0 1 0 0 0]\n",
            " [1 0 1 0 0]\n",
            " [0 1 0 1 1]\n",
            " [0 0 1 0 0]\n",
            " [0 0 1 0 0]]\n",
            "\n",
            "Graph Structure:\n",
            "Node 0 ↔ Node 1 ↔ Node 2 ↔ Node 3\n",
            "          Node 2 ↔ Node 4\n"
          ]
        }
      ],
      "source": [
        "# Create adjacency matrix for a simple 5-node graph\n",
        "A = np.array(\n",
        "    [[0, 1, 0, 0, 0], [1, 0, 1, 0, 0], [0, 1, 0, 1, 1], [0, 0, 1, 0, 0], [0, 0, 1, 0, 0]]\n",
        ")\n",
        "print(\"Adjacency Matrix A:\")\n",
        "print(A)\n",
        "print(\"\\nGraph Structure:\")\n",
        "print(\"Node 0 ↔ Node 1 ↔ Node 2 ↔ Node 3\")\n",
        "print(\"          Node 2 ↔ Node 4\")"
      ]
    },
    {
      "cell_type": "markdown",
      "metadata": {},
      "source": [
        "**Step 2: Define Node Features**\n",
        "\n",
        "Each node needs initial features. For simplicity, let's assign each node a unique feature value (1, 2, 3, 4, 5).\n"
      ]
    },
    {
      "cell_type": "code",
      "execution_count": 3,
      "metadata": {
        "colab": {
          "base_uri": "https://localhost:8080/"
        },
        "id": "32kM6AYK-9ok",
        "outputId": "0d7f5d7a-bfc1-4984-8d7d-05e75dccfac7"
      },
      "outputs": [
        {
          "name": "stdout",
          "output_type": "stream",
          "text": [
            "Node Features (each row is a node):\n",
            "[[1]\n",
            " [2]\n",
            " [3]\n",
            " [4]\n",
            " [5]]\n",
            "\n",
            "Node features:\n",
            "  Node 0 has feature: 1\n",
            "  Node 1 has feature: 2\n",
            "  Node 2 has feature: 3\n",
            "  Node 3 has feature: 4\n",
            "  Node 4 has feature: 5\n"
          ]
        }
      ],
      "source": [
        "# Create initial node features\n",
        "# Each node gets a single feature value (in practice, features are usually multi-dimensional vectors)\n",
        "feats = np.arange(A.shape[0]).reshape((-1,1))+1\n",
        "print(\"Node Features (each row is a node):\")\n",
        "print(feats)\n",
        "print(\"\\nNode features:\")\n",
        "for i in range(len(feats)):\n",
        "    print(f\"  Node {i} has feature: {feats[i, 0]}\")"
      ]
    },
    {
      "cell_type": "markdown",
      "metadata": {},
      "source": [
        "**Step 3: Message Passing via Sum Aggregation**\n",
        "\n",
        "Now comes the key insight: **Matrix multiplication naturally implements message passing!**\n",
        "\n",
        "When we compute $A \\times \\text{features}$, each row $i$ of the result sums the features of node $i$'s neighbors.\n",
        "\n",
        "**Why this works**: \n",
        "- $A[i, j] = 1$ means nodes $i$ and $j$ are connected\n",
        "- When computing $(A \\times \\text{feats})[i] = \\sum_j A[i,j] \\times \\text{feats}[j]$, we're summing all neighbor features\n",
        "\n",
        "This is called **sum aggregation** or **sum pooling**.\n"
      ]
    },
    {
      "cell_type": "code",
      "execution_count": 4,
      "metadata": {
        "colab": {
          "base_uri": "https://localhost:8080/"
        },
        "id": "zoqitBXj-9ok",
        "outputId": "6c665fdf-0880-4d07-f2fd-126fb088d8d7"
      },
      "outputs": [
        {
          "name": "stdout",
          "output_type": "stream",
          "text": [
            "Result after message passing (sum aggregation):\n",
            "[[ 2]\n",
            " [ 4]\n",
            " [11]\n",
            " [ 3]\n",
            " [ 3]]\n",
            "\n",
            "Interpretation:\n",
            "Node 0 received: 2 (sum of neighbor features: 2)\n",
            "Node 1 received: 4 (sum of neighbor features: 1 + 3 = 4)\n",
            "Node 2 received: 11 (sum of neighbor features: 2 + 4 + 5 = 11)\n"
          ]
        }
      ],
      "source": [
        "# Message passing via sum aggregation\n",
        "H = A @ feats  # Matrix multiplication: A (n×n) @ feats (n×1) = H (n×1)\n",
        "print(\"Result after message passing (sum aggregation):\")\n",
        "print(H)\n",
        "print(\"\\nInterpretation:\")\n",
        "print(f\"Node 0 received: {H[0,0]} (sum of neighbor features: {feats[1,0]})\")\n",
        "print(f\"Node 1 received: {H[1,0]} (sum of neighbor features: {feats[0,0]} + {feats[2,0]} = {H[1,0]})\")\n",
        "print(f\"Node 2 received: {H[2,0]} (sum of neighbor features: {feats[1,0]} + {feats[3,0]} + {feats[4,0]} = {H[2,0]})\")"
      ]
    },
    {
      "cell_type": "markdown",
      "metadata": {
        "id": "sP8fqOwF-9ol"
      },
      "source": [
        "## Part 2: Normalizing by Neighborhood Size (Average Aggregation)\n",
        "\n",
        "**Problem with Sum Aggregation**: Nodes with many neighbors will receive larger values simply because they have more neighbors, not because their neighbors are more important.\n",
        "\n",
        "**Solution**: Normalize by the number of neighbors (i.e., take the average instead of the sum).\n",
        "\n",
        "This is done by multiplying by the inverse degree matrix $D^{-1}$, where:\n",
        "- $D$ is a diagonal matrix\n",
        "- $D_{ii} = \\text{degree of node } i$ (number of neighbors)"
      ]
    },
    {
      "cell_type": "code",
      "execution_count": 5,
      "metadata": {
        "colab": {
          "base_uri": "https://localhost:8080/"
        },
        "id": "jhbnoqGo-9om",
        "outputId": "17bf339c-0617-468b-c017-eb6371cb8b24"
      },
      "outputs": [
        {
          "name": "stdout",
          "output_type": "stream",
          "text": [
            "Degree Matrix D:\n",
            "[[1. 0. 0. 0. 0.]\n",
            " [0. 2. 0. 0. 0.]\n",
            " [0. 0. 3. 0. 0.]\n",
            " [0. 0. 0. 1. 0.]\n",
            " [0. 0. 0. 0. 1.]]\n",
            "\n",
            "Node degrees:\n",
            "  Node 0 has degree: 1 (number of neighbors)\n",
            "  Node 1 has degree: 2 (number of neighbors)\n",
            "  Node 2 has degree: 3 (number of neighbors)\n",
            "  Node 3 has degree: 1 (number of neighbors)\n",
            "  Node 4 has degree: 1 (number of neighbors)\n"
          ]
        }
      ],
      "source": [
        "# Create degree matrix D\n",
        "# D is diagonal: D[i,i] = number of neighbors of node i\n",
        "D = np.zeros(A.shape)\n",
        "np.fill_diagonal(D, A.sum(axis=0))  # Sum along columns gives out-degree\n",
        "print(\"Degree Matrix D:\")\n",
        "print(D)\n",
        "print(\"\\nNode degrees:\")\n",
        "for i in range(A.shape[0]):\n",
        "    print(f\"  Node {i} has degree: {int(D[i, i])} (number of neighbors)\")"
      ]
    },
    {
      "cell_type": "code",
      "execution_count": 6,
      "metadata": {
        "colab": {
          "base_uri": "https://localhost:8080/"
        },
        "id": "PTMAEieT-9on",
        "outputId": "fc335228-b510-40c2-b3c7-7fc65fa57490"
      },
      "outputs": [
        {
          "name": "stdout",
          "output_type": "stream",
          "text": [
            "Inverse Degree Matrix D⁻¹:\n",
            "[[1.         0.         0.         0.         0.        ]\n",
            " [0.         0.5        0.         0.         0.        ]\n",
            " [0.         0.         0.33333333 0.         0.        ]\n",
            " [0.         0.         0.         1.         0.        ]\n",
            " [0.         0.         0.         0.         1.        ]]\n",
            "\n",
            "Each diagonal entry is 1/(node degree)\n",
            "This will normalize the sum by dividing by the number of neighbors\n"
          ]
        }
      ],
      "source": [
        "# Compute inverse of degree matrix for normalization\n",
        "D_inv = np.linalg.inv(D)\n",
        "print(\"Inverse Degree Matrix D⁻¹:\")\n",
        "print(D_inv)\n",
        "print(\"\\nEach diagonal entry is 1/(node degree)\")\n",
        "print(\"This will normalize the sum by dividing by the number of neighbors\")"
      ]
    },
    {
      "cell_type": "markdown",
      "metadata": {},
      "source": [
        "The product $D^{-1} A$ normalizes each row of $A$ by the corresponding node's degree. This creates a row-stochastic matrix where each row sums to 1.\n"
      ]
    },
    {
      "cell_type": "code",
      "execution_count": 7,
      "metadata": {
        "colab": {
          "base_uri": "https://localhost:8080/"
        },
        "id": "4zM0Yt3b-9op",
        "outputId": "d60769a5-b0d8-438a-d639-fc63c120cfea"
      },
      "outputs": [
        {
          "name": "stdout",
          "output_type": "stream",
          "text": [
            "Normalized Adjacency Matrix (D⁻¹ @ A):\n",
            "[[0.         1.         0.         0.         0.        ]\n",
            " [0.5        0.         0.5        0.         0.        ]\n",
            " [0.         0.33333333 0.         0.33333333 0.33333333]\n",
            " [0.         0.         1.         0.         0.        ]\n",
            " [0.         0.         1.         0.         0.        ]]\n",
            "\n",
            "Notice: Each row now sums to 1 (or close to 1 due to floating point)\n",
            "Row sums: [1. 1. 1. 1. 1.]\n"
          ]
        }
      ],
      "source": [
        "# Normalized adjacency matrix (row-normalized)\n",
        "normalized_A = D_inv @ A\n",
        "print(\"Normalized Adjacency Matrix (D⁻¹ @ A):\")\n",
        "print(normalized_A)\n",
        "print(\"\\nNotice: Each row now sums to 1 (or close to 1 due to floating point)\")\n",
        "print(\"Row sums:\", normalized_A.sum(axis=1))"
      ]
    },
    {
      "cell_type": "markdown",
      "metadata": {},
      "source": [
        "Now let's perform average aggregation instead of sum aggregation:\n"
      ]
    },
    {
      "cell_type": "code",
      "execution_count": 8,
      "metadata": {
        "colab": {
          "base_uri": "https://localhost:8080/"
        },
        "id": "64G-9miE-9oy",
        "outputId": "78ae1484-841f-4ecf-b0ea-4b2e3df6eca2"
      },
      "outputs": [
        {
          "name": "stdout",
          "output_type": "stream",
          "text": [
            "Result after message passing (average aggregation):\n",
            "[[2.        ]\n",
            " [2.        ]\n",
            " [3.66666667]\n",
            " [3.        ]\n",
            " [3.        ]]\n",
            "\n",
            "Comparison:\n",
            "Sum aggregation: Node 1 received 4.0\n",
            "Avg aggregation: Node 1 received 2.0 (average of neighbors: (1 + 3)/2 = 2.0)\n",
            "\n",
            "Sum aggregation: Node 2 received 11.0\n",
            "Avg aggregation: Node 2 received 3.7 (average of neighbors: (2 + 4 + 5)/3 = 3.7)\n"
          ]
        }
      ],
      "source": [
        "# Average aggregation: D⁻¹ @ A @ feats\n",
        "H_avg = D_inv @ A @ feats\n",
        "print(\"Result after message passing (average aggregation):\")\n",
        "print(H_avg)\n",
        "print(\"\\nComparison:\")\n",
        "print(f\"Sum aggregation: Node 1 received {H[1,0]:.1f}\")\n",
        "print(f\"Avg aggregation: Node 1 received {H_avg[1,0]:.1f} (average of neighbors: ({feats[0,0]} + {feats[2,0]})/2 = {H_avg[1,0]:.1f})\")\n",
        "print(f\"\\nSum aggregation: Node 2 received {H[2,0]:.1f}\")\n",
        "print(f\"Avg aggregation: Node 2 received {H_avg[2,0]:.1f} (average of neighbors: ({feats[1,0]} + {feats[3,0]} + {feats[4,0]})/3 = {H_avg[2,0]:.1f})\")"
      ]
    },
    {
      "cell_type": "markdown",
      "metadata": {
        "id": "MLSsy4aT-9oz"
      },
      "source": [
        "## Part 3: Symmetrically Normalized Adjacency Matrix\n",
        "\n",
        "For Graph Convolutional Networks (GCNs), we use a **symmetrically normalized adjacency matrix** instead of row-normalization. This ensures that both directions of message passing are treated equally.\n",
        "\n",
        "### The Normalization Formula\n",
        "\n",
        "The symmetrically normalized adjacency matrix $\\hat{A}$ is defined as:\n",
        "\n",
        "$$\\hat{A} = \\tilde{D}^{-\\frac{1}{2}} \\tilde{A} \\tilde{D}^{-\\frac{1}{2}}$$\n",
        "\n",
        "where:\n",
        "- $\\tilde{A} = A + I$ (adjacency matrix with self-connections)\n",
        "- $\\tilde{D}$ is the degree matrix of $\\tilde{A}$\n",
        "- The element-wise form: $(\\hat{A})_{i,j} = \\frac{\\tilde{A}_{i,j}}{\\sqrt{\\tilde{d_i} \\tilde{d_j}}}$\n",
        "\n",
        "**Why this normalization?**\n",
        "1. **Self-connections**: Adding $I$ allows nodes to include their own features in the aggregation\n",
        "2. **Symmetric normalization**: Dividing by $\\sqrt{d_i \\cdot d_j}$ ensures the matrix is symmetric and helps with numerical stability\n",
        "3. **Preserves direction**: Works well for both directed and undirected graphs\n"
      ]
    },
    {
      "cell_type": "markdown",
      "metadata": {
        "id": "fXh4_esV-9oz"
      },
      "source": [
        "**Step 1: Add Self-Connections**\n",
        "\n",
        "First, we create $\\tilde{A} = A + I$, which adds self-loops to the graph:"
      ]
    },
    {
      "cell_type": "code",
      "execution_count": 9,
      "metadata": {
        "id": "mI1-3a-_-9o0"
      },
      "outputs": [
        {
          "name": "stdout",
          "output_type": "stream",
          "text": [
            "Original graph has 5 nodes and 4 edges\n",
            "\n",
            "Modified Adjacency Matrix (A + I):\n",
            "[[1. 1. 0. 0. 0.]\n",
            " [1. 1. 1. 0. 0.]\n",
            " [0. 1. 1. 1. 1.]\n",
            " [0. 0. 1. 1. 0.]\n",
            " [0. 0. 1. 0. 1.]]\n",
            "\n",
            "Notice: Diagonal entries are now 1 (self-connections)\n"
          ]
        }
      ],
      "source": [
        "# Convert to NetworkX graph for easier visualization\n",
        "g = nx.from_numpy_array(A)\n",
        "print(f\"Original graph has {g.number_of_nodes()} nodes and {g.number_of_edges()} edges\")\n",
        "\n",
        "# Add self-connections: A_mod = A + I\n",
        "A_mod = A + np.eye(g.number_of_nodes())\n",
        "print(\"\\nModified Adjacency Matrix (A + I):\")\n",
        "print(A_mod)\n",
        "print(\"\\nNotice: Diagonal entries are now 1 (self-connections)\")"
      ]
    },
    {
      "cell_type": "markdown",
      "metadata": {
        "id": "w_O3sDRM-9o0"
      },
      "source": [
        "**Step 2: Compute the Modified Degree Matrix**\n",
        "\n",
        "We need the degree matrix of the modified adjacency matrix:"
      ]
    },
    {
      "cell_type": "code",
      "execution_count": 10,
      "metadata": {
        "id": "vJ3NVWDN-9o1"
      },
      "outputs": [
        {
          "name": "stdout",
          "output_type": "stream",
          "text": [
            "Modified Degree Matrix D̃:\n",
            "[[2. 0. 0. 0. 0.]\n",
            " [0. 3. 0. 0. 0.]\n",
            " [0. 0. 4. 0. 0.]\n",
            " [0. 0. 0. 2. 0.]\n",
            " [0. 0. 0. 0. 2.]]\n",
            "\n",
            "Node degrees (including self-connection):\n",
            "  Node 0: original degree = 1, modified degree = 2 (including self-connection)\n",
            "  Node 1: original degree = 2, modified degree = 3 (including self-connection)\n",
            "  Node 2: original degree = 3, modified degree = 4 (including self-connection)\n",
            "  Node 3: original degree = 1, modified degree = 2 (including self-connection)\n",
            "  Node 4: original degree = 1, modified degree = 2 (including self-connection)\n",
            "\n",
            "✅ Inverse square root of degree matrix computed\n"
          ]
        }
      ],
      "source": [
        "# Compute degree matrix for A_mod\n",
        "D_mod = np.zeros_like(A_mod)\n",
        "np.fill_diagonal(D_mod, A_mod.sum(axis=1).flatten())\n",
        "\n",
        "print(\"Modified Degree Matrix D̃:\")\n",
        "print(D_mod)\n",
        "print(\"\\nNode degrees (including self-connection):\")\n",
        "for i in range(A_mod.shape[0]):\n",
        "    original_degree = int(A.sum(axis=1)[i])\n",
        "    modified_degree = int(D_mod[i, i])\n",
        "    print(f\"  Node {i}: original degree = {original_degree}, modified degree = {modified_degree} (including self-connection)\")\n",
        "\n",
        "# Compute inverse square root of degree matrix for symmetric normalization\n",
        "D_mod_invroot = np.linalg.inv(sqrtm(D_mod))\n",
        "print(\"\\n✅ Inverse square root of degree matrix computed\")"
      ]
    },
    {
      "cell_type": "markdown",
      "metadata": {},
      "source": []
    },
    {
      "cell_type": "code",
      "execution_count": 11,
      "metadata": {
        "colab": {
          "base_uri": "https://localhost:8080/"
        },
        "id": "Ii-Cr10E-9o1",
        "outputId": "e84b15c2-a8a3-47de-c6aa-527e6f80b4bb"
      },
      "outputs": [
        {
          "data": {
            "text/plain": [
              "array([[2., 0., 0., 0., 0.],\n",
              "       [0., 3., 0., 0., 0.],\n",
              "       [0., 0., 4., 0., 0.],\n",
              "       [0., 0., 0., 2., 0.],\n",
              "       [0., 0., 0., 0., 2.]])"
            ]
          },
          "execution_count": 11,
          "metadata": {},
          "output_type": "execute_result"
        }
      ],
      "source": [
        "D_mod"
      ]
    },
    {
      "cell_type": "code",
      "execution_count": 14,
      "metadata": {
        "colab": {
          "base_uri": "https://localhost:8080/"
        },
        "id": "UQ5JG3pr-9o2",
        "outputId": "cc9facc7-e551-456c-d79c-4dc9713978ff"
      },
      "outputs": [
        {
          "name": "stdout",
          "output_type": "stream",
          "text": [
            "Modified Degree Matrix D̃ (repeated for reference):\n",
            "[[2. 0. 0. 0. 0.]\n",
            " [0. 3. 0. 0. 0.]\n",
            " [0. 0. 4. 0. 0.]\n",
            " [0. 0. 0. 2. 0.]\n",
            " [0. 0. 0. 0. 2.]]\n"
          ]
        }
      ],
      "source": [
        "# Display the modified degree matrix (already shown above, but included for clarity)\n",
        "print(\"Modified Degree Matrix D̃ (repeated for reference):\")\n",
        "print(D_mod)\n"
      ]
    },
    {
      "cell_type": "markdown",
      "metadata": {
        "id": "P2Gi7ayS-9o2"
      },
      "source": [
        "**Step 4: Compute the Symmetrically Normalized Adjacency Matrix**\n",
        "\n",
        "Now we can construct the final normalized adjacency matrix $\\hat{A}$:"
      ]
    },
    {
      "cell_type": "code",
      "execution_count": 15,
      "metadata": {
        "id": "sjmdWbQW-9o2"
      },
      "outputs": [],
      "source": [
        "node_labels = {i: i+1 for i in range(g.number_of_nodes())}\n",
        "pos = nx.planar_layout(g)"
      ]
    },
    {
      "cell_type": "code",
      "execution_count": 16,
      "metadata": {
        "colab": {
          "base_uri": "https://localhost:8080/",
          "height": 807
        },
        "id": "QdN6CwrK-9o2",
        "outputId": "2930bad7-2869-4633-9304-7b67121f34bd"
      },
      "outputs": [
        {
          "data": {
            "image/png": "[encoded data removed]",
            "text/plain": [
              "<Figure size 1000x1000 with 1 Axes>"
            ]
          },
          "metadata": {},
          "output_type": "display_data"
        }
      ],
      "source": [
        "fig, ax = plt.subplots(figsize=(10,10))\n",
        "nx.draw(\n",
        "    g, pos, with_labels=True,\n",
        "    labels=node_labels,\n",
        "    node_color='#83C167',\n",
        "    ax=ax, edge_color='gray', node_size=1500, font_size=30, font_family='serif'\n",
        ")\n",
        "plt.savefig('simple_graph.png', bbox_inches='tight', transparent=True)"
      ]
    },
    {
      "cell_type": "markdown",
      "metadata": {
        "id": "mQA8icDe-9o4"
      },
      "source": [
        "The formula: $\\hat{A} = \\tilde{D}^{-\\frac{1}{2}} \\tilde{A} \\tilde{D}^{-\\frac{1}{2}}$\n",
        "\n",
        "Element-wise: $(\\hat{A})_{i,j} = \\frac{\\tilde{A}_{i,j}}{\\sqrt{\\tilde{d_i} \\tilde{d_j}}}$"
      ]
    },
    {
      "cell_type": "code",
      "execution_count": 17,
      "metadata": {
        "id": "-4BrIuZO-9o4"
      },
      "outputs": [
        {
          "name": "stdout",
          "output_type": "stream",
          "text": [
            "Symmetrically Normalized Adjacency Matrix (Â):\n",
            "[[0.5        0.40824829 0.         0.         0.        ]\n",
            " [0.40824829 0.33333333 0.28867513 0.         0.        ]\n",
            " [0.         0.28867513 0.25       0.35355339 0.35355339]\n",
            " [0.         0.         0.35355339 0.5        0.        ]\n",
            " [0.         0.         0.35355339 0.         0.5       ]]\n",
            "\n",
            "Notice:\n",
            "- The matrix is symmetric (A_hat[i,j] = A_hat[j,i])\n",
            "- Each edge weight is normalized by sqrt(degree_i * degree_j)\n",
            "- Diagonal entries represent self-connections\n"
          ]
        }
      ],
      "source": [
        "# Create the symmetrically normalized adjacency matrix\n",
        "# Â = D̃^(-1/2) @ Ã @ D̃^(-1/2)\n",
        "A_hat = D_mod_invroot @ A_mod @ D_mod_invroot\n",
        "\n",
        "print(\"Symmetrically Normalized Adjacency Matrix (Â):\")\n",
        "print(A_hat)\n",
        "print(\"\\nNotice:\")\n",
        "print(\"- The matrix is symmetric (A_hat[i,j] = A_hat[j,i])\")\n",
        "print(\"- Each edge weight is normalized by sqrt(degree_i * degree_j)\")\n",
        "print(\"- Diagonal entries represent self-connections\")"
      ]
    },
    {
      "cell_type": "markdown",
      "metadata": {
        "id": "UkWYL7DA-9o4"
      },
      "source": [
        "## Part 4: Visualizing Message Passing in Action\n",
        "\n",
        "Now let's see how information propagates through the graph using the normalized adjacency matrix. We'll simulate a \"water drop\" scenario where we start with a signal on node 0 and watch it spread through the graph.\n",
        "\n",
        "**Simulation: Information Propagation**\n",
        "\n",
        "We'll start with a signal (value of 1) on node 0 and observe how it spreads through the graph after multiple message passing iterations."
      ]
    },
    {
      "cell_type": "code",
      "execution_count": 18,
      "metadata": {
        "id": "9yTEwKW6-9o4"
      },
      "outputs": [
        {
          "name": "stdout",
          "output_type": "stream",
          "text": [
            "Initial signal input: [1. 0. 0. 0. 0.]\n",
            "\n",
            "Final signal output after running 10 steps of message-passing:\n",
            "[0.18381719 0.20791335 0.20436693 0.13626176 0.13626176]\n",
            "\n",
            "Notice how the signal has spread from node 0 to all other nodes!\n"
          ]
        }
      ],
      "source": [
        "# Initialize: \"water drop\" on node 0\n",
        "H = np.zeros((g.number_of_nodes(), 1))\n",
        "H[0, 0] = 1  # Start with signal on node 0\n",
        "\n",
        "# Run message passing for several iterations\n",
        "iters = 10\n",
        "results = [H.flatten()]  # Store results at each iteration\n",
        "\n",
        "for i in range(iters):\n",
        "    H = A_hat @ H  # One step of message passing\n",
        "    results.append(H.flatten())\n",
        "\n",
        "print(f\"Initial signal input: {results[0]}\")\n",
        "print(f\"\\nFinal signal output after running {iters} steps of message-passing:\")\n",
        "print(results[-1])\n",
        "print(\"\\nNotice how the signal has spread from node 0 to all other nodes!\")"
      ]
    },
    {
      "cell_type": "markdown",
      "metadata": {},
      "source": [
        "**Visualization: Animation of Message Passing**\n",
        "\n",
        "Let's create an animation showing how the signal propagates through the graph over time:\n"
      ]
    },
    {
      "cell_type": "code",
      "execution_count": 19,
      "metadata": {
        "colab": {
          "base_uri": "https://localhost:8080/"
        },
        "id": "zPhFGNux-9o4",
        "outputId": "11cbd84a-9933-4291-e85a-0e3cad6fcd88"
      },
      "outputs": [
        {
          "name": "stdout",
          "output_type": "stream",
          "text": [
            "Initial signal input: [1. 0. 0. 0. 0.]\n",
            "Final signal output after running 10 steps of message-passing:  [0.18381719 0.20791335 0.20436693 0.13626176 0.13626176]\n"
          ]
        }
      ],
      "source": [
        "print(f\"Initial signal input: {results[0]}\")\n",
        "print(f\"Final signal output after running {iters} steps of message-passing:  {results[-1]}\")"
      ]
    },
    {
      "cell_type": "markdown",
      "metadata": {},
      "source": [
        "You can save the animation to a video file if needed:\n"
      ]
    },
    {
      "cell_type": "code",
      "execution_count": 21,
      "metadata": {
        "colab": {
          "base_uri": "https://localhost:8080/",
          "height": 837
        },
        "id": "4A7g8hu5-9o5",
        "outputId": "54f38a8f-42e0-4c3a-d29a-dbfbf014d3c3"
      },
      "outputs": [
        {
          "data": {
            "text/html": [
              "<video width=\"1000\" height=\"1000\" controls autoplay loop>\n",
              "  <source type=\"video/mp4\" src=\"data:video/mp4;base64,AAAAHGZ0eXBNNFYgAAACAGlzb21pc28yYXZjMQAAAAhmcmVlAABf/m1kYXQAAAKuBgX//6rcRem9\n",
              "5tlIt5Ys2CDZI+7veDI2NCAtIGNvcmUgMTU1IHIyOTE3IDBhODRkOTggLSBILjI2NC9NUEVHLTQg\n",
              "QVZDIGNvZGVjIC0gQ29weWxlZnQgMjAwMy0yMDE4IC0gaHR0cDovL3d3dy52aWRlb2xhbi5vcmcv\n",
              "eDI2NC5odG1sIC0gb3B0aW9uczogY2FiYWM9MSByZWY9MyBkZWJsb2NrPTE6MDowIGFuYWx5c2U9\n",
              "MHgzOjB4MTEzIG1lPWhleCBzdWJtZT03IHBzeT0xIHBzeV9yZD0xLjAwOjAuMDAgbWl4ZWRfcmVm\n",
              "PTEgbWVfcmFuZ2U9MTYgY2hyb21hX21lPTEgdHJlbGxpcz0xIDh4OGRjdD0xIGNxbT0wIGRlYWR6\n",
              "b25lPTIxLDExIGZhc3RfcHNraXA9MSBjaHJvbWFfcXBfb2Zmc2V0PS0yIHRocmVhZHM9MzEgbG9v\n",
              "a2FoZWFkX3RocmVhZHM9NSBzbGljZWRfdGhyZWFkcz0wIG5yPTAgZGVjaW1hdGU9MSBpbnRlcmxh\n",
              "Y2VkPTAgYmx1cmF5X2NvbXBhdD0wIGNvbnN0cmFpbmVkX2ludHJhPTAgYmZyYW1lcz0zIGJfcHly\n",
              "YW1pZD0yIGJfYWRhcHQ9MSBiX2JpYXM9MCBkaXJlY3Q9MSB3ZWlnaHRiPTEgb3Blbl9nb3A9MCB3\n",
              "ZWlnaHRwPTIga2V5aW50PTI1MCBrZXlpbnRfbWluPTEgc2NlbmVjdXQ9NDAgaW50cmFfcmVmcmVz\n",
              "aD0wIHJjX2xvb2thaGVhZD00MCByYz1jcmYgbWJ0cmVlPTEgY3JmPTIzLjAgcWNvbXA9MC42MCBx\n",
              "cG1pbj0wIHFwbWF4PTY5IHFwc3RlcD00IGlwX3JhdGlvPTEuNDAgYXE9MToxLjAwAIAAACjaZYiE\n",
              "ABf//vfUt8yy7VNvtguo96KeJl9DdSUBm5bE7TqAAAADAAADAAADAAAoAvC2XGpYCTWuwAAAAwAL\n",
              "qABqAAvIAbMmT/mw9l/AAZfxNUp7g7qRhACdpOD3PiHuC3FfyeOlhH/AO8+gM79P/71q1WQoq5H+\n",
              "O6zWfh3SIXMbDbfkGDSYIlLsXJepTjWHaEZ8TS95hb8DTt7S5KRnvqiAtCgG1X2olTAsc3MpDx10\n",
              "fKTeZtfRqLgVJf2mEbQJvcUUP4zJ1i9pSBA+BWkEzbYMDbmGDlzaFrSU4ur3ApPVEHkb1KqeLxRX\n",
              "HuUaIEA+SA/5vQogMfFjdUPWlVAiMdt5mumQQpgnfiMys1/C5rAVeZFhrr1bLrOIyPBZjvcwIcyg\n",
              "E2AWqwvBi6cZ0WMoGa8gDrRB281QTMsHqJDHnBRcUK6f9/9I3uxhUaO+Pfj09z7bmrcIzjzKiqyx\n",
              "AOo9LrPBK7GvHznq+/QGMqGI8Z7VrK/ZJ5rtcOqV+LNpgDMAtelk0IFHoFOh+gL6BWUD0ZeV2hHG\n",
              "5zdZahHGHM0mcvwK2XrUDeBeUTh19FoeVP6VfcfWEnFHE6Ya+tC/fw9tRjOkOrgjXx2z9/98FQms\n",
              "UVePaMQry5BNqIht1ZjLji9a+Nqh67go/qk1UUZKBOG4aOPfJEfSA2MuNn8s7+5BHxNG6NfsIF7e\n",
              "mBclUUv1df6/aBWSeODcOdcZ13Fu0KLwk0OA3qNnldAAsjoX8/vwLNSKksRL2vmiYSjWUMvRtE0n\n",
              "2AhCAUD1P4AcgqqFG0SIIHkkwwkqWMW5mcvrC4eWmpU8zTPLhc045XERG24LWHVDG5PgkDF2otWY\n",
              "H4jAWMM3qlaoHadOpNTXNy6VCGo6RL+iVQ9BjN/xIHOhpWu46UYUsvoK2utCstrHCMQzgpkuJsLD\n",
              "pBVj6OlaZwGWL6CYgz9e18sRda3HiO7C7w6bB0Lb//sE8ucUoEO5dHPnaGVQYRT8BrFCGzhHxAiX\n",
              "YFNI0h7Wz8cFFAZETfgZ/0pyfY4+uwpTgKNEZ8vIuH2aub2F9du8qFzxFB1L/Xg/qMGazdKSy22W\n",
              "zhUVb6Irk2ND6ptXfgZX9Vqg+DmxPP9STiCLtKB5JLsBips6uLZxkJuWn93A6k88vhB3kjA8wlEh\n",
              "r/eS6mf7FFDoQwKQBzy5BZKiqjjHVSWa9dYxR5sTipgOrKrtpiUrT95AZns//5tPq5Wi5rRmZR8K\n",
              "YxCx4rZeqS8JmfhPm8ixbadYHoOTtw5p6mXyFVdgPgBm5sL7tsN6j4YsFtI+PW/wBlNYC/R6PPE1\n",
              "YSPXViPjyjD0x80VLDf4mTFGTEPbS/w7rG/S51K9xldGOxULyXnYgejoLP2QaRGWiZFCLKlDp8Jk\n",
              "os8sN5EI4Ec1s1NaRd666DGREwaOvAkbwKapt5gwPY/4NRVbq7wqaCSmCQ1Zg9TWk8nO6HsnUn9K\n",
              "GTRJhSTX3kia4mtFcGv4Nu8Vp9mye4M5QF+ALUQeyxpy53aFDO1EQBQbmECbkOvfRXEfMLFpOaWg\n",
              "OyjtAxGkab7NjZVuzrzavHyOEvC3G0gmHHrwQunNjLQEMl/gXlmaXYTanbJ4vgzrbGvCKR2XXQ1r\n",
              "VfmD5PCA0a4cmfORuKhTUuF6wobQnO83nXKfv5+1t2FTGxcIuwy1AGPgP3S5tXcQx8/G8AiltO9O\n",
              "I4tv41AC5FnFfbm2kYTLP7eqDZ7Ri0ZljrGsae9BVeCw8cZ/WLP2VOMnRf8Qy6JmTxXJDuxrAy3j\n",
              "gcKBF0lwlrqxbg+M62t2XInPZzH+LIydL2MC1jbXbMaEpdGLYP5OSbuQHjX8uY7GpNh97pjx5co+\n",
              "os7TVXQtQcg6VQx/zmRG2KBDLU02LaaH8sFJ47ciZ6O7ilJnxctdDzUYUyx1ncWytVBWE2Ifzmlp\n",
              "19XAgWCtTic7+qh1fI/oT4s3tBjjCDUQrH51+kT240pIegUOuTSX2IDb5pCV95FM/gs6iT11ZAO2\n",
              "GgdFajZ3dLZzQQzVKQpBapw3OrRgCcImgBFlhxyCZ9pV+dz0M+3PM+i4cCVF44/Q/lq6rclS6nHd\n",
              "NqM1Hqrma9Ynce/9dH7wkKdcoGfUNN+epakAY1iz8X67B2hL4/Yb9Qm27H+AA3V3nHxo7E759xT7\n",
              "/o5MeoWXjmMuIbCLEzGbYVpsT6CrSCC14QBml8mGTkc45PmNL8eDDkpYBrbXh3YIHwWJL0Oz0XIt\n",
              "E4ftxoByMNtqIBTbMdf4QGHMRBi7e4ATR9faOWi2lHQNOAOrK24XM/DysvVTRS7pUBk05Qqilei9\n",
              "xK5a/hyzmi2wQOeRo5E2uPOgW6qE71YLZyOFCXlDnoO9tmVDrz0hBJPv8dcl+ZuvwnVQkja6oV+7\n",
              "/MH7mZwamf8/d8NHtQ0PmSoB600QLV86/HoIXLWKg4ratfTPRYX9HlxyPPhJUCwWOKf1EfNatyrq\n",
              "QQw3wdvrLU69XTDh/XEwy63hgFqba1Cc1KLvFVSl2y8BtgkcwaPzg3UkOvm/9afLAkRjhOgZLqdm\n",
              "3Cf87Varu2lKC9KyltfcYn+jQqK9APqrqe9oT7Umhw+8WNmEY4mm5ErquXYRZ8aob3lIf2BkzK4u\n",
              "ZOsD0I0bv9SsnLPwVZXFKIDnJmHNA1gC6dTvWdjlnDw0N07MmutMQ3aKFVDPdPy1lMb1Pc/cMWjF\n",
              "B1HeyqTLiZKF7QtX7CS7c9XviLhwlQ/4I5d0H+wHn+2fvkzYewaHOcN2QF/DgMY8Pd44iG+mO1ph\n",
              "7WT/qqK9DfyojTkJDhk9zobM7cbNH6ijhyf4QdEplPMq1eyHwYoCeoDoT1TnfZhIVYUcR5+uoRgh\n",
              "xKk3dqwkWlPQ/r2v3VQ3cIS0KaSujhIh6YC3l//qIJsUCCOrX6925kRdtN6Bc/3dsY14A16GQP5u\n",
              "53PtrqOuDf0X3lH6vyb2YRsQAohPCaZa0WXKcOKFHeIbVV517engfT1eW5/aydecMgRa7Asq44Q7\n",
              "5ym71rtUHWjJhRvFyyV8LXkFdQsboCGp+jKhnM90SnjQmZrYBfod+cTqIaImfacrCi/6NcridJFV\n",
              "WAv/sdPL5tpP5uDTyqpT7FLMlRCu/a+pmYKTtd0lQiuQNnkQWnipoDw9hFZFNqefIAGiqUo+hrmD\n",
              "IAMpI5QRjaHFugRxrLOvtgS1+nZGm3KXaHuREewxrHD+3guG5PvTCpFOcpCX6qbWLMlK6BIYwRwn\n",
              "6r6ZJO/id7ejnKcHgA5IAKBSOdT3234M6OvfIo1t3VyNOWwwKivJ6tFPdzSky2/bmuZaXSexmaFp\n",
              "HYABGeFoIWVqhfyM4pf4DFa6l9wuug+ckb9h4hiwBeN7MPNM6Q8qLpwEBUWq1CLH5Ub2mh7tCGtx\n",
              "QpNCGgGE2o7l5mx+NSsp8dxLCryig2P1zHWz94bo4ko6bJePESyMCHaBq3Teicj7tbpjVlXZ4/Ur\n",
              "0wX59Y+5jtOSdNagX6KHT33IoQ7zX5vJTWi9FXrTgz81aVQFb5HxriALQK6rtubpMDHpyTvjxNlj\n",
              "9RcjwkxIqRbmifphpWCTbnMg0K8w3c1Xco5IDDk3ddBwBY3rspQT3I9H9UIl0tQ8ML/qLf87tCUS\n",
              "f5uQgNyPWXZ8ht/8nd4wy+rMjooERf9fZ90dgwBFXfzfSlmD+2diFVxDAlO6hhOViwAdnCpgrD62\n",
              "zTeo2Y4WD//pvk2eQCll7yzMDhXyn9cBmd9/U0ih6GPtwjDKXyyDaEi+LxuKRgQoAAb+pehKHOln\n",
              "pzZ4hS/jHiHl84brGVHnGvgcRtaMxRWCB90ep2EfFPbz3GufQx66uvFiNB916ELBbW5797VVxAwI\n",
              "M/fEXKGMV/n01tWYcrmlEFrcAegoiw9+y6GobctXCbJmJ9BpeLfggIHYZEBu+stdX4a565srXYZp\n",
              "gDC2EfLWY9RBn7ExMcAcLiuCi+LXRsPMXL9egvREg43tjBVq5EYw6CcHSNRxQpLbupvXuxwNC97f\n",
              "4WEedOGnBuulS1+LDs+HGriIuQf/B33SIkqGfS9IUHARNOMC3OCp3AqCX7eHIFX36zp9cAd9j+Zn\n",
              "7EUKSYrUdeey/EsFG728IRNiCFQ/OYvhAfaKbIksYeW5pokM9ZwmEn490deyfpMxWjbkLleoK9dI\n",
              "RWB2aTbKIk2lmxwE4InuP00F4kRJqtgYeWZ1eYiTce83baktTiZc4PRnpXoj1/7Atf3kwO18kzmi\n",
              "uisZxzhGBbT/E6vGE2oEZuHztj609nWL0nrcZjLdDJdI7BRoD+pxv5uIC5w4UjYRiaUsM+VxcHQ9\n",
              "/N+/ZEMCqkPF3gTDMMGgj1i+SrRs8F9HmXk/3fHUmorb8oMZZiCfTaLf9c174c5x3J15h/u4pFJX\n",
              "Dmv5JnxINYQZ6z5wCjR6S6cu1lf7yO6iNVjxAbaa1mJ8lTkECPdiP6xdb9Tn/NcAwf3L2HEpkjqi\n",
              "1dkL66N6+wwVO26VDHfoeuTuKfIsT/IGkPxleuacebhEmJ3jIskcXrCOYMQzjuf5LCBE9JzOye2z\n",
              "qSHwr8FPgBbsg4u+Jya+6n7vqMlpnjrJ1nyZ94P7wBHbvHq9kukPS4P09Kw1Ah5zkE2BTb31Cbz4\n",
              "gCB8IXYycEtH8BSNKpeEUwscyxpKz3LohhgGWXD89vYJ63WEshdiFvZMIV4QXg6zEwLKAeANKMKJ\n",
              "2EVI+8VKA6rT1Ux7/W37Ga3Ocv4//Zv/yQ96iv5YAOu2HklTwSF+9qXlYf9PggQR3xb0L+O39lGi\n",
              "JveRPbxZUok+IAhBq8ZM9KpPwPaUHmGQ6/i/bzC9EMc0sN7l7vM3voGl8peMhDKxE7DJTsFjkOVX\n",
              "yLQY+uhBjjJUwuSQlr1fNg1moKJA1DEFKAAAzH3VelwGK+HeCpGyETr8rE9+1PWSS6HFogQHtHPq\n",
              "TVtb/qbmNsvF+V4WaWOOWQI8lHOndAAAaaQAHH9tx/Dd01+j4rCjtbH2pWoKNTJmxssSiog0WZg9\n",
              "Wa8GwU3bKZlrREhN6XqlGzAMuL5/vuGyCTC3NwbvCZfYUEJwKWZQbV+G4JORan9PNB24dJVVWGmS\n",
              "ATRSAhxSI8G85mybOkWzHMEZLHkP6dhcZIT+8Lcpv8Gfn/6Q4Ps9tM4b6lKwONFC2+LgC5fsFzqH\n",
              "+TJ0fmAN7gdaGUWOcTYlVGNUkEMVB/14Y9BKqUV7eWk5tyFXb0p+utrA12TdKOdTxJDuJLmQUHDK\n",
              "Z/oQje016SOU8HJp6gqgOBb4FAYHV29e2P0xuR/hvLPRKIUiaVPtTYNqJOA46hGkpAo6DIBAwwA3\n",
              "vTL+vKyVlOw0Zxl0EYKylLuBv2/kukJrtSTteoEQqRTYCE9mi3mGJrWKviEzZJ9eHarkjPcoJVU2\n",
              "AHFzJtWo1H7rhRbEBXnRr4WbFlsWG/ChFwYwIkjyg/jAyL/51Y75gtCUD36S1kTPDYxI4JP0yVYB\n",
              "8Os0w7WoujXPkJDdCODJkbBmvDz185yMP2IZGR+6QvYMBnbJYttlpkAux5Q+z9rEDXubf4blR1vx\n",
              "5Hcm0A3LYcg64aX8WtPFTbRt1kARILf1QQ+IurA2wA6CyLWE5BSEJlNUCwoxCo5iMJ72+R7jO5Z6\n",
              "QA+ELbjdTGOu/5RLhvYPz8Q0gethmFcChFkgFzDSL3SX0d/sVPx7fHjAKans4kzDZX7tFykfY8p2\n",
              "pQVymSRg/a4gRKkIcRv0rgHtvbNpgJgUp0QUfV6ubJCV5D4/eWY4SIQ2WMUUgiq8I65s5IEGRZPP\n",
              "jm11Ti07dJeqhl+zLhqkcrWrLwDRFijcHvu7ATkO+88PYuuwppPTABmVzQiqrMF+rvYnynl8poPj\n",
              "QpS9aTgX6tPKH23aUHMu4uYJW299w3oU5tCR7rPYviyg7n9GislnLPfpT4iA6qTrcz+Ey7DMnqP3\n",
              "6Ede2rjrH+ji3dWZrGJ0XJxUilZDQHoLyCeJs2LjKv61wBUyGiaQC3CHKzPaaWrt1wNJL6KIAAWi\n",
              "IBiPj26EcY/356+WhaBh1QW6XwbpjxbHcvCkq9UtSMUA3+WOnV8C/Di/l9ecmp3QTNetgRalhN7w\n",
              "/QE1zNABaIAGIgFW/jdCCgEXUm+GhPuWOK+Wk/QpH2jJ9FKDaJWEwcQg2VrLVBo643ooX8FS/C0T\n",
              "PkYrvCD8DwRkt81fT+s4CgAAJhsBdccY98tOYOo9mR7iFqfKm7EWyWBVaqDSZB+0kjVAVa4Z/+nS\n",
              "bbfwfYobIE3+SJyGl93o37Aa1k9N5q4M/SezTAAACmBXnHEyVJi74/8aGpYIJx2YW/S63ySdAbp0\n",
              "NpPi60Q2T9oaPTdE4XYIc3YuESywBokVXCkbR2hS8llR1RX/V2QwY/rAAABkC1mTH8tbttWZcz1k\n",
              "58xTob5HcNw0ekNWzUcwh+f59OPU9T/Ap8mN480j4flpGPMtwTU+iJMuJD3W35o3+8HIwAAADz5u\n",
              "2ktXV2TKPyk0IB1UuNE1vgkJ3jrb1lpghEdUU4FmAPqHCArrd3IG9Hq2fwFWpOYNn7ejqsCX/7vi\n",
              "ev+rii17xSAAAGGDAM3cj9qHHQIeDQ+BawbTnBy3I6f0XWktZSzXeJkmLQauUO8f0qroiFwwCNkp\n",
              "RVyHia9yrqrgFC1MvDgzKuAAACA7AAYMekpjgdZDzyTTWmO+2hzAC+7zX/Gj1fOaXU3YNbCxRMmf\n",
              "cntZ0eZ8v5CplOEfjvbmQged8zTzf/z7tiH9EGrwGABXbLMcKW4vK5h8ICkPt6x9/mEtHh47bsB8\n",
              "TyS/bH+9Ux0WKg3Sn0Hb39/5uFwSBDDDsuT6qss+v7jSpZyX+y2RMTmeyhZ/tTv2Liog+wUJXFjh\n",
              "8VVnVaIC7t4EHbl2kw49Nw1S91nJ0ZfyWBfyEOj71rLEpi+AxezlyNjceuRz9Tyt0nI5lK04xGH9\n",
              "EQWnQvFtRVzfG6xB0jwBZyZAFKzpw1a4+i+nd52T8kWHD7te0tduil3nBDc0kqQdsZlVcyrhEoNv\n",
              "7mlDvx4orOXh5A1qbuDXSphTkApGyw6tVggkKW2Zcthp95r6dqf4fc9owrGIooTZFRnrq6m6nOu5\n",
              "+3JIhR/ROML/Cn5sVGE58XpO/usAAE2UEqsoN6er6kHb6C9TWpa8Ch73WQsVKL1gDNjgc7lBdQe4\n",
              "XAAVhtzpLrsx2gGGmiN3cXbMNTMXhe4IrTPRSHzc6xIyH5dADd6szVES02p8ecoowedbhzFD0Sg9\n",
              "Y3oIangmM3qleVGru38C+tsWnO7zYnhpiC9bW4pBJvf5tDc/wABNfP92zjE4h/wpiX11MTzhiV4v\n",
              "rWxkWHRdoaV2UbweEY28eRvA+0gfV+sue+HfVWy8g7pgQX4TUVdAQT4ot7zXC1m5/MzPasnQIUsF\n",
              "MBHv5MdwDqNoDP9x4AQF+mUOWQ57NXT02uDugcHjOfsRuYt0TtUzC/y7aI0qHTZ6J1kTi4k1aNV2\n",
              "SI/XXL9v6teOEhR2PgJSaK1IYfMF7MDOGd7DJaC3ilTFGyaxzGcsR1Vhe6Z9jsf4PsBT4hyTpmTM\n",
              "8or7x1O+dpPTAySivJAZBNH785L4YIn/Couipxpb3YxzsFqy8G6FjhksMdT8eIfY+3UzRLpY6cD8\n",
              "juD8cBcHl8dtexESl1/XnI2FM8eV0DrwqBFqGsymprMVPERYTC6IOZ14/ui0k5elZ1F2j40nvrwY\n",
              "nlu1+LNh3utqY9O7geH1ju4ubrWReKxFBy0/SYBb4M0cA4CaFv8vlCOjZaZolAABWd7hlJ1Oy2pB\n",
              "95CO2GV2pZFJCMMtRSovb80iQWAt657MyIbpCxzKfiwKS0929t69Tei9GxJNB9ziW0OXjCKi12sr\n",
              "q0LlfN6s2Ql0nVjtHk5uKMHJ2RisUzwVkgnQCsaXtZNO0dIKjlrZqANaFASsUhQOZxxRi2FOuggT\n",
              "EEC0r6uif4dX0tcQN72jyqxqLYdTrFd1F1CwClBaBgNi1jW4OT7l1h+5YgxMfQaTrVXwjLK+RZng\n",
              "meVl2yhwBQzqJfywCV2bfG506hxVD8455iFvVkPeMsnA/vp+iRxAAi4AA6UMza+1D7bYiSliWFb0\n",
              "SWAlKTXgsLmqrdQ82xndfCmlhcNBLemS26XgqaAECa9a5hVlzAGuTHXuHBpTgvd0HbQ9m6pEfBV5\n",
              "5607tu3A9mhPyQ05iTEhW/wIds+lUcS3qGzG8HelSYNXjesDaNUH5fRRBxjzEMxskpwmIAHDSVRL\n",
              "YJ4PHtsm9JSThdRXkpjWMD/iqbTZSzOwyIIa8pbuVBls/1zmZFgY+83e22llnhWEfkB7tVu3N/y9\n",
              "gIPk4DRsChxPaLjtZC0DfjKRF/e4ItLjD6QAAAMCG+BEBit9tJaUTUFP5Ev2PM2Q/GwBWouawAAm\n",
              "+a50x+PD1sew15eZU23z2vtagtOGptqaGPJ6vvLJVXGePtPE1iJuXNTIZ3qKbSmmCNSFJBcEyDfq\n",
              "WGX6oUsWa3RNvuRQl56kTjal/2QuZjecUW5Loh4RkPmg9Pe3AlkM4UIJJGWVrclJHilm9UKFYxv3\n",
              "VO4UDqUS13VzY/+1dtdpHqSAnHQ+ICVBjPiMNOKWTzUj6lzv0lPQQT90DJnDcowM5RLdHEnt4K7w\n",
              "8AjZSHWQAAX8X+iNYRMjqhc3VtyyUi16FkzgY2wQIoqzgq0dC1BVhZAPtmZt24DXYYH4U4mTO8mf\n",
              "VwfuSPk8EccPzvTSDFYq6cVbU7OoCQHx782lT+0ArU3AuT5xt0uRxolJNsKtFnR7kkmuOHvzD3pr\n",
              "JzGGrxw3oPR9UI9fq++xtKETo0Gq3BStK10diWWMbJTC6M/VWeDF68mrWVZp0qiJFNa0lgo4fBI7\n",
              "AdSVcmHAab5I/muxco4te0DQ6/8hhIcS+C3IE3KUWfzNyGuIDbOpSMM+2AAAEc759tztvup9blS0\n",
              "vidS2usXzzei1dpoXl0uvtjBGRmoapNXFt5EN5L7mjVh9BQP7s3n+Qd3cRweSTpWC6ogf1Ebovo3\n",
              "bTA75FBP3+ZgbYxo/WskJETNFEIY15JPdIW3o1hOLI22GCpZ3sH4lKRLRonGZP5jTONunO62Qbyk\n",
              "W9Wcs8Nx0//7Xnb8dw73azLlDRRYkae6LRMG1rn1nm3PLM6qMpJlz1oEgqPnkC3uRUl/e1fYQzfC\n",
              "U8XBFP938IzJQdW4/R6Rbxv84aReb6O/gtVYAUAABFIPWNdaX3mj+aV7tGXomIkoJGWUjssGT7rE\n",
              "hpu+VvF0s6sYa9oo8NdN3oclVbPBRdzoPtEI0B1tw07I2Is2uyXnMqd6o06DF/MsZDfhHrtLtfTW\n",
              "mB1tvOGn3onOrJwBScncP1kveNtixp6BCLj3Xhnt9EO0RI5XfrwiDnUnxN810uCjtpLTYStbt+eA\n",
              "rM3zsjNqsKoK9W+8WNzro9C5ey7RR6kmUpighKsXib1fGphNM6CoMibOe139GRIEoGtUZCKAx52r\n",
              "vbB9p8ZhoIGS7BfQT+reWycAAAMD0/j6pGSh+0U3oObeU7Gnn5tXGv3nJ/yxP9KxomOPIjuobM/m\n",
              "ptbFj2iVBbpNfWPi24HZSJtlueOm4mkbi+uQwdMEg6ICumghBcVmIYrZZtuq3RcmtKx2q5bq+zjR\n",
              "PJGeBM7U1B7pXsvCfyFFpzGG4zH7kkanqNqWkRbPmXi4eRvEMEhAaVatz0lH9AvfCf+zTBgOYB5P\n",
              "AFPhH232lX183bWDj844DziXT32hbwBOJNO9DX6CHvisVAN6Oa68s9ItIxXNBu//zlN1khU02iaR\n",
              "vD3tgvcmCqRcgAAZMX6XGIoNcYBOTanxHmh/Cr2XEhIWteR3wYbfiFWBsgAbyrofjE2BNRc93sd2\n",
              "KIdQnJE1AhKVzJ3CmGrh33vhNqnuridlF7JolnXrolpEd7it2S8jUqeDAP6eyjsOQTAnKWAEHqw+\n",
              "FWCtGUQA1XPyfsDWp/JlFfZSSlg6XVY0V7PnqeOSzT4hGQ3drX5b6Fdznl9j04AAQdKZPt4i4Wf+\n",
              "afACBbBYQQO5ixP5F0rUc1AIFkFNckEok/jaHjg+qQwixMwBNeTEyXzO9fYH+B9gDlmu0pRw9xAA\n",
              "AEl74+NpEO5cK8GqzCKbtB2r/E7ZmkPrFaznuxivTZUiD1vgu3laKeLXJp0i1CBRLXdM5V5LHhOo\n",
              "fYYT894PuVp7uHP6Q7QDMd+jq+4fudp0kxniQi9YzL4Dh2G1VSgacXK/zAKs+wt4bfs+VGMeuBDr\n",
              "vW+CPhlUJZPvsPFZIpJrqzfPmV8m+w6ASXIM+HBo97hJPpQStABF+yw8Z+WTU6OiiBC5o/ivEuxe\n",
              "IVorkCTGDdQ02APac6fhf4KXfdUyj7aaRmlmHzfJQf5qVVTjRgk64QeYAALihlPyYl3h4bsFNeMq\n",
              "91rL4MAl9DOvmPWWO0/fTS9ogQrsR76iE1PzFILkFc1aG3+m6qh0JItKkjiy37vdANVjdiWV4h/R\n",
              "JXApj0rEnUX+BP9xcgzhB3Ondi3i/KzHwKuRrGIEKySbbvtlasHPP9t3oVRkyjB/AFWk0j10Lb4Q\n",
              "t2SV03GKIpfbnhMuHnTQCECuR5ijG0LZWi3ALY2NkoaLPHtqyGpYCjR1Oq4Zb5tRDp2A5Ki/NGsQ\n",
              "FeSd19B60w0HYGfk+524WaFiwyQar/ZCTVr3gSHenLhMjX0bPdfdwZit/EgzPx6KY7AcPee4Ltxt\n",
              "pTUjaNvBtU1d281D6/ZMlSuQNukDq3bPkyNzxBBlfS5M4HpQFxFId2etEzomiFw/QbmE16Kh44H0\n",
              "pHEbUjNb7R8dVanFJuqQQsYAO9+fr7IHiObL47oc5HdHAOjm8AeAmzrQxE60UQ4dpYfc8AKAA8/n\n",
              "nTKgXYstDU5dkd6MSqW/tC6BspAAkPdGDSO3uXbGxTHhfylVu6TIMp74gFy15Lfoea7kkyokipWP\n",
              "o7ZkSsTphc1XVoMMqnOllw2Wctc+X/e/E5piR1vfRkezxxmIeWQ7bD8oPbUvBT0aJ4+DAh3kEY8b\n",
              "Gj2jivLlMu1xyMnMvjIjqQG3hWn9yz1sw9OMJtTK9c3T2ZTTshzE1aDJMcEdXWWTAIULLmoyWebL\n",
              "7qkVuvu6DR+W3ewrit6AgNL3WF4BIBPBR+ySrGSt+RACPyGz2b3XntMg12pqUWEffi0EJCHYwhRV\n",
              "5oANQStPNApqZpAhWnheY4Ldiu+BU3hEIt2AAAOv73zDH3Jx/kaw+50x45E1TmvHmhw3K1EUjGJ4\n",
              "BG2iju8vEzizVUeu3R1ZLiMJqW82lczdzXSzVmPEVSc/8gCD0mFmuP4vwj62m1/I+yPvNWr64pv+\n",
              "dmKrrz86rkAw6Ll2IgOaGkaHHI17GbXAuAAAUzrNW8WAolTZsOSPWJSijzabsdNuqv0bzcPMnlXF\n",
              "9mnyrdXX31nDO3T5teD2QCYO4B8x9HRWmqGjAShur6YAAdEGLN68xlLjNpW4CoR9Inu3OZpLpJtU\n",
              "n7tqNKDU1SHrrnoS3OUWYzdK31MNYbUqvx6v8JmNAtt/bfsHpjR59cMPaZb5dLTeEtyjBoSX282Q\n",
              "pSJe1iOYasQ1T+aWY7lub9NevwBCrErAVuIHWRlnAEXwEvxVng29bYBwK8VNcSCDf1mPh0ujj81l\n",
              "QUnSwnv5ZEua6OFwPdsrRo0xFTWHzz7I2Vz6kh0WdLRTxTFlZFInuEt8z61zx6Tbmt32MIWVG431\n",
              "+Y1kKiztCRvEDQc83aMORVTq9hWfxx8/ZjvLoKAKQC738E8n3+MQTiC5zGOG7jWq1agHimvAXqTT\n",
              "mVSlOA0842wrEMfqJEt0hVmFHLIZp81Vkvn6iQtP2eAQKqHb+xfxbAuAA3EGfLj4iqILEgAGTgya\n",
              "8uTleGTfRt4IW8/DqDGI7MFJSxGUFCF6aIfxD4POIs/vBrdSEIULRHB3eGamVgC57+6XYdldAAAZ\n",
              "wwwAABqNmP3VGAGAkiV/PDAY9LLnk6mTJyTvesfVuV8n5hGlhNIXKyevota1lg5zUH6jn5B2WfAH\n",
              "CvMwQzNAAAEs0z3R73u1yKE55HJpVu3Sic0rciGFASpP+7ulKNIe8Kmyrh9NnGh0PUyxaFHLMWm+\n",
              "+qrj4LBMAAADALgzWJhBvUN4XqfTFMrbceXfBYAObU94bAiRi4Aq4CxSOfJOv8f0k3eXqxvqy4wb\n",
              "Re+4K47vUNE+TU3OF0RAAAD/RtICKL3qF5E7LxhecNEaKMgKvXN2yI6V3P+3uxLXbV4DXEPU/SEG\n",
              "n+kidlGl6o/NcIrAClSuAAADAnVMgwC6U9BG27K+WPEy5Sq1rOamvl+S9tNE8gNeuKiwQNr3ZkGo\n",
              "RwCAQVEudasfPn4/CgfAX/rJsiB3OW5e4AAAXJBpARRfB1Gn0qlN5h37U+tzOgi6KEBntbU5Gocz\n",
              "Vhqet1sr3CGpywQy0UwBaPjwB01gK3XoMEzygAAAfdMgcZxkee4TU0mIyNwuHf+WSLteLMuYol6w\n",
              "xKP92PcaGsPHJhy9NmpJW0SxDWjhOykFo3AJ3J8PVBtA0IY9MQAAAwAsSDSAii9/seuDfTHjm2ik\n",
              "4SzLPJsjivrTHPF9xxQGLVEcpYla864/UXQiVsgWepmVVejjX3+kjJYRDAA6BXh76v39cBTRKH/5\n",
              "48TA01DgFbH6hl61RRM+qrnzzO/SpM9hvUXYit69cl/8w3ObJBHLtmIKzMD2n4USOZHIKIzVY6nl\n",
              "oeM6ZxAORf5fD4UAAS6nQzUm2+75RRna3jws440YlykxLcO6ABnw99qOGuUoT4yKSPKS5QKN7dCQ\n",
              "EUwnE2b6MKbuFsvMb7wyg4S4cGp3Nnb6OCIQv7LQXmEkGfzdZruDeq1CTc3Qgi1O3vEoOsPuOTZ3\n",
              "OUYufdkO3zA/ROqsH9mMsIzhWpPBQfImDprf89KkuKSUDbBBaZtGk0eM1XJNpXA35LQnNaEsXVPL\n",
              "+SNwnzMki+gn7KL7d8Xuwki5M0A59+yR7uVP0jnwAkOVi+A/DolZ4c+B0S2+QUvDFjHDOO0nf/xf\n",
              "D3TIsRcavLjrNnBAjrvxQS6CdpguKkaPrvQ7Nw6N1KXnIE3vUGjbjq0POAAAE2XjwZCt+txyeIoT\n",
              "SbFBNWkpc/BmAfZu6mg7rNRiMkbhro2HR1SIzC2X6DGjFqb3shk1w67daGRt4+Ec4qSIBS4d2V8+\n",
              "FDFGLQ1Hu1eNHpqLF0L7QFxwnXVqI8Hog0bhGmtwifRtP3Buv613/h5FV13W5o8F8CA5i7Ji8BVC\n",
              "avMkjg3fLJ7G1gpejmMHEYQ+wEQ9bU96ismmtx6BvDXTDByobpffQ0pOV1kzdxPPwUKnMGp/ZhW+\n",
              "BqXfSfeAf/w4gG+SKI+j+OQ63esHoL6iMWL4yfsJq0RTppsYGgsa3yAKBykHspxnmESUl0mv0AAp\n",
              "Jlu8U+8wXjTHlMnYu9WT+DKNDoyFexthcBZ1n3bG7WVSITD577OaI2LSyt0YYFlNXMo6hVGXhGS7\n",
              "Jikl/ujCmPcJg9PraH32OHsnKWwDBk+mIidfhAhQ1dqV3JmnskyLe8YqTCouPjCjqVqPam+g/Hcv\n",
              "Wtoig6ifvyulesJWsNBp8Gr+8ItUpKgHjk/c6M/O5uXB5XwiZqRRqHBQEszJaQjAehJfrH385yqD\n",
              "rv94G5eVnIBCkbIvKS7b8AfOCMxy/jwP/sHh+L4JSB7FvjpNUALlk9VEmsyyS48HboQ97C1zX/KQ\n",
              "3vZi7x/d72olrhkitvwGJUxJXDHYOlA6M+H8vlBHiuazt3EWa7nRySdZPN/qhZ5gZBp+pFiWVqLD\n",
              "MQlpTDc4H9X4O/ufbwruwntzjTD0vuuL9jQr5jHlQFWXBrhiOoTox2XFHFS1P/jeoDhSdUGiMFzq\n",
              "WD8UcRo3hl/fJyiK6353komq7nT0PDGCtvA1tro2w4049gBFYfEcamG4vcI8K30Aur03U9vxCdCw\n",
              "v2BFOhiLTWkanSRId23hNWlWzoAeLkCoq4a1r46Zs5REhX46WclWrG7MDx4mesNUHAo7IQ5W7X3j\n",
              "HI6JJqkAWCnwbZ2lHZp4LRHUMt8NN2J3NxOYMC3bhBgfmJisnUafYD4V0gLJRlNls02kAAADAAAD\n",
              "AAADAAADAAADAAADAAADAAADAAADAAIDAAASJUGaJGxBf/7aplgAAKUPxZaaACIVRFP7CnDUDV+B\n",
              "8hP6YYX3QguV+APz3Crim8udD3MqdvWb/C/YfI0e80nQwtlS9BKYrBtFs6ofhxMVE1nMj234MeSo\n",
              "EIHfad048tXgJJUNU5xa9a3ZOPbIQjPyf0Riw29pKsMVBbwnGj39094+lDm859wvKPGgAO6CQ0pX\n",
              "dmeQghD/0ZWmi5/25HP36+fskyfgp5z/0mnBaeut5VjpMTW22vqYMsq8t/JgdQydfHY/RY8ZXBG+\n",
              "K0B9JzUs8lVvpDfR343diits+2DhCbt2/dTDQONv3qx5g3oLKc5IknE4ASsJUOsV9tkCPIUuJvOd\n",
              "6qFYxFI8TOFw3VM8irBigQ9eYQ2G23gB9rcB81lQGSxfvGAogBCHNbEuZwDuMyIDsR0uvrjZG7yJ\n",
              "7EaxGfa8CGM2R9RLAJ4DB0jHAHaR8BN0hcj15RvvRp29w1DhYBAVBm03tX4pjradCaS0+cuSvvi1\n",
              "v/KJmTtEiDAVMxpTSv+LsxKR/sGLsaLKhG52RmQtccy/AZMM1WrK8CPgyevVhvUOIucnVD7e2JJ/\n",
              "jT8uc+T/hnNi7kymMnmDNkBcQnQLmMsggFcLzQjzJcwrUOOnB+5FgSbIgvEkiK1H0qDAcjs1Igqz\n",
              "wwM8mXiBnyN7Dz331VXvk1fo8LouwQgIreFbQds2V8pImGWZnfXqbQTrfJ/vvwGopmqcnYb5ZmGB\n",
              "VSYMEsjKmZbYKZOoqLLyaF2jTA5EoMB8EZ87IUs/oTdBnVrHZUR6i6LiorGJnTt3LRT+EFM44FiD\n",
              "cdvv7x4i9IDsaynAlJwiLqwgvcULxFavwvY3e2V1wVMtiyz6HnlmoJK+fvi2Tylmi8L0bukbUlDp\n",
              "EM9x5laO9YWjDbKO1BrARjc+iXvnIwEh69lHFHR7J+ZGwNtz3q/MbGKVHXyltl83ShbCd0vPJR9c\n",
              "O3ptzqAGjHGe7+PpGMQVa67XowXJkTnflpD9i0yXeifUSTrwNGhUjMR8zfs2tg8pAwYBGnrauC0D\n",
              "u+/jvWehUsLmRH6yNwga71OkUlZfbiQOyo38W7AbgODYaXMa8ggCN658Eh3+bkj2/vAqs8L66zDZ\n",
              "PCT+Rr7dx+CV7+R87DiuKyPy+wJj+mde4a5PYh9KUQS+fntaX90YFTVSlMjv4YNZXmbbWAa/kZY/\n",
              "+2KLCdn8KoecuBTGB9OuLd9+qjgJkkWWbAJSpnpJUnHNhwAn4f5MA2PQSyaf0RNK4YtEj6ebsLp4\n",
              "gEd+pzbgJX62QJkPIaO9C7LZmwlkgysf5qak973SNkrQT9mmuMaCgeowEZiiTICsDX1aTTiSTGVP\n",
              "b592Z7RHdwpkqEah99gkDTjt7o0d7Yz7U3Vniak6kQw0UDiFazmYr8jFFFc7BZY7+EJ6Lk4FpLPR\n",
              "kr3fzHke7Q0yL4AKEOkQp9iDvTUusarQTEmBZwXpEqMr67DGbh8FzVVB8OyMg/SDNr4vEl1FhWR+\n",
              "YrdPr+UVjj69EOXQP4N6YQ9PTMzHxyRYIcZ7oK8XztuKOUcOFJkFKmQ3oXPsPYP1thb8RJqsZ2YQ\n",
              "kDNR1FX6jM7hSyVtonX3SSAka8OF4ZK5+QykcE7fTHHSjRKFHsqsynXMgBSwA5n8P0aBY8gpOFjM\n",
              "2pLm5yJ8hRe+kRvHc0q+pA4XMnrsfcjrhFEmKG9ehEVcU5Z26oaiAeSuQ5pg9yKTXWXCGHhL5uXE\n",
              "/aV+vSlR4Q36ojbDso9KHcb85Umy+ONw8xrmroX5OUtDBq1Bi1Js8mV6DzUAAg/7GLGULR8WAql1\n",
              "SIHADwoTx4jngl6xlDVu9qiSsMjEQV+zveXETy2Axk3SGNGvgW8VeTqzUW6mFiwjSrJeC7mA8lEH\n",
              "/7zcWp7h0AS+l/wpJ02Y8v9HNNmDvS//MshcXkcOuWWNCTga4bEYei9gFYPKQp1WhnhwYzaCYLBv\n",
              "xdIfeuNW6iOe5v20VSDsIxW3/8yTppyX9hURornsOkO706d4FrOJIXcDgx7ORRqB5LCTeaqAQiMe\n",
              "wqtUY7G+lMnSMTK7KcivsothUe33B2RGi2D7HEjkuvAXKUg7rIPvdCJoxHnzCayjyjjRR7gevJOb\n",
              "hkJD6jKmKI+ooX7pIfcuhTsh36SPr+CPLk6TdPzL5p2zP40JAcLPQfioSoLJI4aQnFJ7oGMmcgD7\n",
              "2tEBDxOSV43BSW1KhjtMEKWzU7HGIAUFXVzY+rpDxJS8iEEu2KhdK0NhGhH/GQl+WJwDY5ZizUfQ\n",
              "13m0+vAgovgPId3IVp+RSW5l3ECMuR4mfaHiPjIn/nAKPJdbT8Tm5xLhdBjWHUSoQlMT6d3OnUlp\n",
              "0/tFDgejIxj1yGKAREjawH37+WHvBHsxtcEq/egEAM0AABxtHyigdgb5VGzMOAV8Yq8/vfV+406Q\n",
              "5AL0EEc3YvaKkwVktSJS1pxGa25iaS+O1jHqYSp2q8snnZiibbdWa7EdIbEaOTG8QTKDgH79+6xf\n",
              "jwN1rt1nFcMz9pjc+Dk+P2F+0uEbaEEsmwR9SzkuIqrsvWp+mYAtP+JVdC0joy2hQSGcpHYFIdvX\n",
              "+pzmCc/5xBYrRHmS+XRHlm0GFrTjWdt/sHC7KoAD1E8eoUc+7egJnn4At6GsdAQVQ/r2S0qVPgEP\n",
              "CUc/BlD1c8KupLo0YBV7qxaMw5CjmEZf1uyCZSGgxIfh1l2QapmihnFwU5+ECGmCKuf6+UPxTpHY\n",
              "P/IK9f1pUTB8OtoHBfYg9TvvadkbJa5tW4dJgiIFTXF0Uj6w7qf3BjG0YIZZIvKMJImfEY8RO6KZ\n",
              "BR9I8NozXGgLM/Y9rJX+U1sRNTNL1QxrRv3K8KyY/j4S7n0nwqRgkN+mUEvfB/dkiei+R3sjbqZO\n",
              "63CISUlKgA0KL89Gg8TkEDqrRUL2VPN8/x4aThHd13JI1pyFz1TazjtXbkdJ3fQH/RptGJQy5S1u\n",
              "pqDJ5nf5hu5dCJhmxQ+Jtx4A504zKxrSwS1Usl1pRT5kaqrLfpFkSD0XTLmZJdc8AlpBhzMHYGjm\n",
              "uqWuKnn+8A+g2zJNhxIWgi/tCWQTB4WK9qPJD0/dMleIaBNqWVMQE64tLQiPWTErbvPomDk+c4dq\n",
              "GRPkLGYqXhY2bK3g5X+xmFWgWJbLmEL8eY99bnlUSqiScv1RFne0etBJiZaP00+KIfSkTSmhRnzU\n",
              "8II6l2pz0JTwDOfc2NX0HcPFJlZI8T0Nh5cHX1LbHcGoHw4Daud/NicKvXO/LzKQTMBYDYAVoAAF\n",
              "nv2FMsza5C8pIO550sRqG6zfhXssAPnsU5tntPfQ+V/Jd1n/q3iybslCQhb67zVijw6a7f50R8SL\n",
              "9BssHPklS/1MUNGRpWqJU+8eksjCOknsU+ZJWpFYa3eTPSVV1mFFTameWGRBpe7fJSCsqZJDW9gD\n",
              "zvQLFwfN3+6M7Jix8+YDRlfvMd+SGd/7HeePabA8ZPDoVxet78KfIpms2SAJU/349W+vuFjRp6yU\n",
              "rqU077zevG7JE3QGCZ0vQ2iyvmrzSKpJCMPXJNFu+KXZZMz//G6ZCi6BxWfltUl/Qtbi3hGUwToq\n",
              "jjDISjohgS9o0KB4WcTbKurdGhtLBPZCB2Ex8n2bZhg2NA8iBiXQlUqkaNWLFL5/AvyTRp7uplRH\n",
              "ofTNc+oAftM3/DyGfjUgnLRE8f+5+iu1BVIfVslEm4MISoslE5ErvD6DZUgERkgRZm24XiO5xkKF\n",
              "Xajtu46AAAAfF6QQSaWDV/06eA3+ckJTmC1kG+MTjGLeREa2dy65rD8JMzRsh0gpov+kSb59aKPX\n",
              "3u7R8Nn45vy/gGiWpxnYAgik2XMY8pyI96wKWr0ogoK4A2R4UNlEsgRPTHQb/Wt0uu1ZfGd1UV9L\n",
              "2nUtmtlImQiaD+UTW++bZrNoeS3Pyjrb89WxwShH7UwWImhm1xkbmwmnCMctWUTkw+Xo6bRVHDIW\n",
              "/rxl657oPS1/zdddAmQXA0mwX0fTPE8SjnjfrxVDa5woVprYx6+ClnS29RkGw2HBAxpGjFNqsmve\n",
              "HMT9KLHbIUcuwRWVaVh4Dd589QZkuCnJkAb4MtV+C4kZgKEIY/k8AKLF5hLuJVbcg2gR9w2IaEjR\n",
              "TZk7qbHAGLLsKMbVQYPWbstwwqs3JELF5PSmLdAwh84cZHYqNEZY9/DYC0xdTesHKr/qa1NwX5Wx\n",
              "6NbLvNoh9VHAUazO4LNEUCq4VT5urk3J4Or//RmpArgfKR7kUGvcpZpujvdJlytBtBZOS+r1zwPA\n",
              "LbMuIJaXgYZ4TB3TZRUrI9/RLWFLr59aTXKo1elaRMCynEELhzcJJhH1uPLfTITxk1GALoN800lE\n",
              "82JKz1LkprUhQvGkm3z70FCeQ8rx5FVaS5uE48clYNpDsLWJE3nAXfdx2FgQOBCwPkuvOEuKPFDU\n",
              "dOQrh9fKecD7PlqyvkL1H4f9sfa07i3wiW6+F/Or5+dyZB5AiObaLYrSxmgDx2iunJSH5u4VfQke\n",
              "J7gBFj0ctpU19/fx03eroob6qz4JjPwl2Q5JGS1F07N9hoy3gwTfzHzP2VsElNpttU1cbEazy4gU\n",
              "mXe9AAfOvjiYkxVLLQWO3EH4KldXRD4leSRmeWE5EkUMwpB/JjcfuyOyoZ4t7EqNcgtkW43AABU4\n",
              "6s/4N+1qGvDw8H///ETP0Pr/+PK3Y6sT9RHdilap/grri5wHJ58KoF0bamBx4YWfUCCtopmotu2R\n",
              "zS+3152YkbHIfBnc+ttVoQchf4sUcQl0AQhQwVL7OriYMGHdww66xKZNq9uByU/hewow60M9opUN\n",
              "wc+2HGcj2JCjQDgKs/2tKWBPWU12w+Q6k01Ufrnm8GFrHNF0k/qYzC7s9IJ0IK3tTKS5/XwrXUZ4\n",
              "Z4SRohIOZkwWpJqoWLxecFkXvPyFnMIB/lfn5/Z4k8qN22wBN353/8Q+xA66oxkw/vAx4wSwFs/8\n",
              "5ZmSdPRvO9Rb0DKLcJOqJATByHaujTDG/5oUx6pCtPJxVI3Md0d8R6SxLZ9cvtR9izTDAIdgwthQ\n",
              "xK0jluX1fmQEHyOAJleDvSJZGEiapmy9A8tSnQTXwHQs30yVRXi49r5cwU8gcs7cvUaot3YidX+u\n",
              "FFfpumqBVdY81zVd5+iinatjNDE1oclEytRvMcOC7PJi2Wv8DidHf/im7gsBc+Pm4HLscr2O4IGH\n",
              "+IbYP0B+h67C5n72nfNPgMpml2ZPjESGUeUzuAhcK9hxeBBnVBifqf9mSCt6tabmm/cDRozrnm2s\n",
              "0879Xw+PMQc96cdU8FyOTJVF4N7mjpBOCR4IlbcWWDgDc9McZnRbkWYhGL5FNWizkQztkVAzlSsS\n",
              "LSOqXK2t2ZA6AWh/MXDzUFWhfaDcfy97+1wtXAdz/oOTNZ95puY8PbYMjpzPfiDdvu2w0HGCAPGc\n",
              "K85cVKIPZ3BCcF+026N1lAT+IPuDPVVfh99tDJHRmFMCGrgx8r1NwFSQxgCFKzDSRaPksxhcVZz2\n",
              "MUp58PuT8vhcc9SfilueQeA1pDBDZXennGxczk1EB9RHxw1YmGPwQd0FznwJNX0cRNcNUJS6w9qU\n",
              "sLx3tsZOQVflykYAvCu/2um71emKtSC+wXB88ryqYgKGzJ8rJSqZzptDC900Ag1A1qHpqfoelGYw\n",
              "zZ85cTZPLWEZDfAxN/m0hWGEUbq7IW7BHZleoGTckdzw/VZelcS6L31IUzS7NMudn+Cqvy/3dddH\n",
              "VnBs3Vpmxn98GUwKvar8FTKceRxzvCKPanLGma1Vnqa+6iXQhLdakKijhXQ1ybHNkQG8KLaUHf3O\n",
              "5el1EVlg9sWXTlKph0r0FFNTSzUA/zwpIiQ6MdjgJ9Cqn/uDUBTJ9W4wNv3S2xW5oO7QU6bLxR3a\n",
              "cQBfwPdDV41KiPkOcVlTL6+sv5TqEBNBInM60uHAvnF2D+psjMBXtYyBnmXh4f6w3r2ntMDW537P\n",
              "nvB+xMZRZlq/oVl5+ISUttGcOkMS1lKHcsuXGWX+AqOMBiiglFX2YR/01xtYFrgkI1NA9v/pDS1p\n",
              "DLrLQhNEH2f/i3l0VPxgC12PgiTk+RIXxVX/EQb/5lXzHZZ4GKYbTclChX7Pk5PChOblPvxxwUs2\n",
              "pXxIiqe+Ih/M9hn0wu4Sr4iZcpxG+JRd+tuH27kKCzC3VP2+ijGGXDjPL4SfYbptvmebQP8oSvvH\n",
              "Z/hV16k2hXsUR9moJ5vmpuTsOaNssa2e74NXu08xW75KyCgXh4xmK97uuz1B3G4Ubq+2aAAAH+AA\n",
              "AARnQZ5CeILfAAADAEcPKwIlABJbS9/OdpOLV4qX4BqBmd1neVYiSYUWa4IrCN1vYse/ts8iJlKk\n",
              "/v5w7Mq8ie3IW2D5gTn0pmZzZjp/VUsoVWKRUnryQ9JyfyfxoDpEp5FPIle5ndpXY/xw+sZPLp6Q\n",
              "XW7TX9VhFik2W077SclYaJzv+lDWyt3sYQOEHH43vTCOLC+ORvt0vTFmT82vsbVgTzoBW+0lEE+s\n",
              "RKs2JxkLjOwWJuDpBT56UiOMfIffnC4GQcADsUAHJTHldt7G/B1BZJiI6Chtc0kgAAdfuWbgiSCS\n",
              "YLZ8ox7IIrOBCKoH/FKyXtcL7DUaFMjWnjPD0+1GC7axCd2++ZqRdDu7MaJ4/pmm+q9UInahSadE\n",
              "TM25zNq1K9sKw6oNMMMnTjR1c8zf2V+yG11O2o6v5ssJRzPsZM7VykniWJKzEOrG7l0+Iy3HyX9I\n",
              "/TWTT9DQPFcsLWqsaar7/+HEix0Feo86QAAMUiHfP27LMqIAADd6IgGb7myrqAhbPWz8qexdBn81\n",
              "3Xai/IQ34nvjKF0oQIXiYHga/U5VqX25FrnYIsle5NphtuU2+hKoyJUBsTP7QlXc7vnXmojilF9N\n",
              "6g4k9x4Cn4dVFqZ+atbrj+Qbrjwj/kwA42QyXfCUGh6nFOEMV6W4SCiG3U8u4UWnA+fe+UARpF0y\n",
              "AUwQCjsrz7ssErSV4n+Q+SfuRSYYeG+4k+nUAktnTVyVOKk+TQ2Q5rIJZbT+YuNTiJYkOOyXVCCU\n",
              "MrFMEtaj4xDdrx2NtyPDqql7qz0LOT9BYUdyj7ZK9w/UVFIKgEgQy0PqwvbXkaKJPbzO7Tov17vU\n",
              "yJSCXUOJzN/YFBL5ace2NWTqb+iACXnRMCmXUyPLqiUpjf2UUv22rhF2co1fctveehFLIBiO+eWd\n",
              "zf7TaEKzWRAMeY/iY0TWqZuI0T6NJss6jHqo/axx4Q2f96t5//Vm1WAX5yDq3mTE2QrmCiHDcjc6\n",
              "op84+P/cQxgsgeTUvlF2LzYedqWLRPbah996uqpidy9vGa7S+rkJKe403biaLPZABRg2DwGe+IZW\n",
              "0ADsavGoCFBCEoMdhZyeQSWZ6ZeKVTZ55naKRyH9kQq3so6rlSfGcxLqBlaT59F5ZmTgX3i/AwlS\n",
              "qfLxKHS/h391+Rs8b+B93En1jksWWEvea8XoGFUnuGADv2NxvMGjMNPM2pvKW3BNbos+r4pHiDYk\n",
              "9pDWk9PW2etuYgeDtvXlFciqBb5UuWLZDPik9JvD7HemKW10ZH7MKqw2Z6Fr8opxUSAwmglmOgi2\n",
              "KmlY9g8xeNiMNC1qgVpLMpuSTs/xzjIpxpbU4S1ryKzhvdVutPph1zlnAQF0FD+0fzNWn1YzIZ06\n",
              "YyzH0NCP0FwFs/wprr9pdmjb+x9XTxH9fAxCKixScOINL4RSk5DcnOP1ReJRT1zxIOMr5aLOR31U\n",
              "YqcZZpXpDPMCPt21mZSY/C3NjPvf/Fyt9kS5c4JrHJVz4t8LPfdf1SZxilgAARcAAARHAZ5hdEFf\n",
              "AAADAG4Y3KltABtKdme1h81owj+Brr3PMWtlvFIYZTsyhqK8wedkhPY6Pune0YkiM9M9TjgDTo7u\n",
              "K0t0x7SW0GQbyP6APKKc0LNxfwM4ucaZKgUBg1Ws/FenAanKFfUxIv4nAkuDS8bj0A3NGhnhMVr9\n",
              "MAApBaPBbt4g1bAkZjcAAAMDMVKMOWJIEUWu/OekAEkxQwAAAwH1LGA9sa8ffaVidiE2mAAAgu0E\n",
              "Fd7+0NPRXd+yXsX/rJ6uhZeRzg/Bwc3Jt9KEUKWDAgsp063CDmAeR17YRA96N8xc/Q/S7ax6V1x5\n",
              "BtDK/Bw0Vkjwrja6R8zZWN3pheG9sqNbxDgV6vh5n4VHcuOlUa0g9nnGZ/SUIVAXHiO38Wz8U7WS\n",
              "UxT6BND5WQbdXLd+pN4ck9HEi4uPiRJYR9cZA+65OT23EAJ773Y7IBaZniHbQ0YV3TigMaxICN+1\n",
              "mFmLhLDEDOWRBuV8X09cABRUg5pTwS+zVhLc6r2MM8cwup1cAzObj3uvzARG6OrPKafkwnDCe9yt\n",
              "E8KqnzjMWQt6YkCQqEYt7cDEjWH89fuISIg4GIlWFD0p1yNIXankFutAEuQrLFyvIYzKmd1tIIwT\n",
              "t7b907BedddbpqiDOpeRaRyrGZsdmpUMlQ53tmqdrhxmiQdvHB8O+sE14KX0qwX2c1Ekbm/Krv/Z\n",
              "InFSyIWGxv+GA+jayqdQ5Kfvp1j9RCHLYKZomyNQyavccBLHvuoSy5zobj1Vru3RCNAs6RQ/1bRc\n",
              "BUOIv/hJehW6VgDbJ51MelmOnBckEk+lgztM3zc6HSfqjuqXbsdfM/ccsWSTix5Zo/wRPGraqSBD\n",
              "KqvK+Q/KVkkdzohE1ZxgAOMrEBtDYH59UY927OHV55PTyNmXBiSeq4XqYu74pxeTSRZpC/WLmagr\n",
              "Sjv0nH7xjDrZOZqGN7cGW3Oc3Ky+ots+oSBiyFEMZBNlDIhb4rTcJru9/g0w6oiNjxTbArZYUKeJ\n",
              "DZ7LCA1rxzbompUG6oHoB+EMIop/a+o4NBnrNHy3ByqWLEnCylyuymAbJYK0U4RmEmXGrORKlZWE\n",
              "DNlY6UTmQKDEWMDB+qUA/kc7qLWXQGYChbf3jbAmnA/B7Bb0dys1QonEw+tiK9Rakfxeqx4nMqRe\n",
              "ZcOA8dtt3pkfFiWHUlDJ7kCmoNkPR2idIG+ELbTfsYqV4Pl8BgIYehm4KN2d/gJJ/SOTKJgBkD9c\n",
              "jaudchrU0DcbpOfLzUk0nO8SVXqNvqLVFIfVexvbzmtEZqLrFPKTbbU9txFwisNnn7jSERpJiwP0\n",
              "2umMCWx/GxBvm95C07D0rhF6MaDv0AbNyY49EMKWu66dtyW/Jlc5Sy6qm0+pIPM14ExbMx6MGLPw\n",
              "G8AXfV802FLgSKrDB7+q1HMj0QAU4P8satA4ZFW0Zo7NFLr4I746+Dz0cgfNx5Qx0LGr3PsO0nRA\n",
              "2GwAACTgAAABiAGeY2pBXwAAAwBuLafaABM24u8n+Eu1VWKNdyb/CW6ZGIVaswwOfnOAPP1g6kq4\n",
              "9ySuHOyB5D8jzCsDcO67cD1FyOWZVqx+qElYLflBizR+yIbNtDaLIH4Qxy4eAeDmkpXB9soNzpeX\n",
              "0pc7KgqtvguyoDdjkspkaGRRaPfXgxlALMbMIJzOpPlGGi8HHPpXZ3dBbAtRHkcXx+y3bujdrXCq\n",
              "fPJlAi3W7DVGRRszw+pQg8vIOGib1GLryMj4VCxsjXX3k9uS3+9N1+unCSkjupl/AEF2ACb/oku9\n",
              "u+iMoQJp22p/wmm9f/QG96i5oW7859GMAAASKL2MtBoY14P/PQwy8OPEmh8sSbCXq4sVzw0+SEsW\n",
              "kL9V34g5xnE7XNRkg77gAAsSK2HRuKvKKubAkBm+CIkrWzgmwAwj2jgO6jI+DvAzIAAAafoC0pMp\n",
              "jtHBVVzkHAO9xsbEO7xeVwP7NT550+iQZsk0m7Hq1uZ9NxlC7NuNmasxeaFQcNHgWxG76iJ+AAAD\n",
              "AOmBAAAHQEGaaEmoQWiZTAgv//7aplgAAKV0RgTQATcS28zV8zl8CLKsUX1XBY4fdzolORUaeI2o\n",
              "ALoep1h+6ZATEtmiuV7QRt050gqOQL2swr4sAFgcQusowyoxQDo+zFDB39JIgj3OOKSxQa87rbJS\n",
              "Zu/U0u6sU0i9ZteiJKANsMTKTkrgkhCpLIdMR9eFw1vFdOzAG9MIsD0uFNHiakZ2X8Ye/2fZOSSJ\n",
              "4H4KMcrrcAj8hhRU/ogjxg21/WgOXwOEX0VApMPwXvXSxXbq3oD7WbAwtupkMu6SqawjvlJM8bUW\n",
              "bRyKnMKnowNKj+qVQHhJt04G35Tnl/AOH5hUphgkk0wOBLaynogEs6Q1bbfXzRJ7DOF8OvkpZ5lH\n",
              "KrixFboE66OWVzCZmIMc75RNyqW+wUWyqp0IcS2umno9phPwfV/gVdmxnNfaFdakteuuY5/hyMJF\n",
              "N+1gmnOE+pvPMDelzfp31mkF5e+sv21Dp+rxVhU4udj5v2xWlrHBwqg0flPxwZ7tMaaxgF6fbsuJ\n",
              "k3Z2gqaxPj10EVx+NslLe9F8l4t0aQ+RKTTigOPkQUvhdyZix4PcMtqRztEDTrty2Hr2NOKEnsi6\n",
              "oYjuUS4M/a1EkZx383Cm433n8fd5Jv27Njp8ok5pexUPm4cmTzIfEQRCkbcZDI+6CHRxtrH/xEsQ\n",
              "ZLRlm+qMQdIKvNd5SrVGROQ8m4fkMRFAVkwemjxcYUqOv2WxJuOodNOX9bRoLSXVScGPyvt+iQ9p\n",
              "0IhhnSETxRgAKuRNIFRNnkkTi3Xe7PKx7oNi3f5OAMhUW8iaGkxP90bm1bEbvUGN7/ukWWm5AovK\n",
              "PEZI8me41v1AMbSaFAehwwtFH+KfKr/wNSUO+XRzlIeXwVBHX5Vvyz2SFpXd++SSym/FFpBy8nkT\n",
              "ojI6CyrdbHxhjykBJo2IwEGFiMq73tPGA6IKujP63YBjmaY2WIe2Ti+Wcu6ikg77Uuey9SnHXpNL\n",
              "+AM35XY34nFqO1cVSXgwXOc2Idz66WNgsCXhPNTTjDtoTYQ1gcrOr5Nc4eW8459p8lsqMMb7btaH\n",
              "wFXTgADVR94CACuAR4W2tIokCFi7alMWhkGcCuqN3WqqBsrhQBO2VRFTpgGwpUjn91PaR9kQLrDm\n",
              "zItgqiq0RRZCk3lqrTBeFcawbW8iFi17wfUPQLNVJvSzcHoFniCiwPfwnQEInScdXUcmS3YjRz5N\n",
              "ZGLXKh8vQmKk/1IVXRBzrS5x09YC+BykyySzIoFgNT4/5exLH2tXctYCpxDG+KgpPWV34OeOsxRp\n",
              "tf7Au1dftfy/LFe8srRolCEUH6uHj7yRDdXWgNQ0Halk8vbflcqD5RUQEOX3UBkxYmNLT2NoBvtJ\n",
              "anBTjCyi9a5HNQV49SMbG4KYuvklMqlimKhCEgasNyDtY+Bizx59IBRyyAh5ALlLMMcnTS6XAAA5\n",
              "uVDH25tSfF/1eFdiEIzqSw8s2Lm1e6PxO3BVFPZ+vt2Icboijo27BA4M0SlhVpB6L9Qec/cBBilp\n",
              "OBXz0ZHsN85t/2gOB42gAHhT6bMf3x0fGV3wHFjIGfvZmqNNukJ/68eJCiN9hF2cEtl3xbqBsBJl\n",
              "ZUvt/7AVWIvEJCBnRtSCdrKYgOkyfXP0go/oraBvdKDXQH//h/lm3lrwlkZTSYcNYVUMPL2plQAA\n",
              "BPuLyNOsl6KF5A8g7O/FhuPdnnLxPtEz6rUniT039W1XeYqmFaGl2xloHyXxfjUIt5ZSVQGkwNz3\n",
              "3EmNSc/gL9oIq0t1uB1dx4iXQf8aQmR8jMXKQpdSX0uZKvicjNQjRLMwwho7Rj/Ep8zmP+zpjilq\n",
              "Vhr5QDD+eueCN/fQdhTOFdEhgv59WRD0hSF08gb2ILWrBZ+Fx9Hmmq5JvtB97yqBX3hrLjlReURS\n",
              "ZmBCboXQBfU1R18bL3dAQDniinS312JNGLttGheJcdFHGuGxEd1dhq1L/gwG31yNClYCAMMibF9/\n",
              "HlV6NGAi8URV+2nBSL/L09TiIx+AHoridosLPZaUtWcUiCkBr9OYolD/BgJdL3bKTTT1P4Jy5FEe\n",
              "6raWoXRzkyFmwQsXHKlNDRPpUqPTnsJ9+54FqivlbFD1sFxVwBrFmsbEgrz9ZlVjf3u+evyIuAqs\n",
              "WA3PFfRXAULdSTgQkcLBe9fK34aOiSYOnsikHnW+fxlqz2hVatTsGkBUwT0t9HzIl1oG4G5RL/WX\n",
              "CecCKZmkyhglrPkbk3G7RylRgivjbnJCAYskdIOot9M871urZh0dzfYX7M0OGyco/Steub//PvVa\n",
              "5ROzuGU6i6MXS1nnB5+BExikj8jwlXTUeRIp/58h0Zu7sf1bFrlzJtOVPj8Dd0UA5aAZmUEfDbkT\n",
              "uh3G7yV7+CxMwKDphepSY+bKa2xfMHiASQb8SPkr0wXm5X/5L80CcpOwA7Q/Y3sMXmDTISmPURUd\n",
              "wmZxaI11hEDClOfdCJNCmi3CmaoHcNCBAOxf86FbTQnt1xIAADqhAAABlUGehkURLBb/AAADAEcP\n",
              "ElHUABOT04ix1fRUxYzrFT8HjNHuitXhIUTyEIoyZPiuBxDN532Zkk2N5MTgEfZFne2tw0nvVraf\n",
              "tMGyDRHypPJKbyFtr8EtneG3prN2hLg5y/ldt7rolNaNV8aZClvwsc69ACAYCYRZlNXJv/48hMMb\n",
              "FQC7A+vw3B9/rw+eJKd+6agvHn4/ryFzq5Jkq/ESAifwDcKNh6Fe3V3rQeC1BQQJMTldVqulSUtF\n",
              "uzhCyRd5c6s/NVAIdztiv9LJ84zm3KEhKgpJMSnnr8KljNwMdQSYL2noznAxVnWdxwAABFlWKdGF\n",
              "bP9FqIZOrvCve0S9NsBA/8AAAKtWPkQ+YDbNMviGuPph1ykKXSthSRPComxD4+EAAAvvkJJnoAOv\n",
              "NhTpz4CrComcafe22Vd8VLbiWDN44Spn/S6139sjjXdMv5JvbmDLvxWXdK/ssszGWkadWjNyooFa\n",
              "SDFGbf1VkwM5D6I3yzO9HJzmtW0+BA8nuwFjAv1sta6PX2dnfS7s1bfV+8AQAAA2oQAAAV8BnqV0\n",
              "QV8AAAMAbrNcAAgRaAE9uNTiqKWzkwjWmjAMmmUSozUKGHbZRkjpw/wEtsS8622jjuVOzspbxKr5\n",
              "/wPUW/bnK4EsL2wz1wJIwKdU8pReMMYRhmvcbb/GXLwaIL6XsjncocuarLbCBJ5WYigAlCpRDW1J\n",
              "JVHWWS9Zn7Qu+cMbMLqggTbTGYjzVlLWoQ+otSrRqcPC9DjiMXNmqx+hcDbxrTnpZTvaB79sTogv\n",
              "uwmTNZQM8qRM0fN7RTkFR1RdPAY4V1Zs8UiON+mE4aaIY6n77e6cNtPudHyg3HkWSYq8yLpgnyJG\n",
              "8XM7ixQAACSisYRpvyH7UpgpAAADASIJR3aJc4K1Vuito5pGuTNnAAADAWLrTPOPq0v986IvAh9I\n",
              "5tqIQf2qNvNHaTxptvT3JNgPQeIrKBvjqOhYHm7Vn1ex76W97DnZ/yPgfunRq2qPJFafc2h323Ks\n",
              "tAAAMCEAAAFUAZ6nakFfAAADAG157/zOdPAACaeDvtw1AWqBKKzjN4EYBqDMB5JE0cravVsn5Oc6\n",
              "n0gMZT/8FKN9EP0H7cm2h5mFc+kPilpo/HTWXc9QLBpVGDgvRjG8lrptIBjetdsCe+fx7ZctBwBh\n",
              "tlnrBkwYTUcnp5VOisHsYs3TPiKXIzgi4g0UPWA+VajppJZHLtfhyTqhCNp2DHjrrFsOL7ZkeI3T\n",
              "XqsaJEn2Q15v3lxXFcsB25GiqKBj5vhtGh93m5MykuH+a3u/mjS+Z6jLqwS8phVZypWu/AAJeGOR\n",
              "DaDsK1xkYbl/AAADAUfB/g8HJ3omxoGRkqUoUp8/u1wAABxuZvYGKP0o5dVZc+70y01oxefVCBbG\n",
              "mY7pzj2IDBwGi/WHu6kKkrMblIvsL1b14WuwS7n6UaqCD6voxSXDRN+HsiIs0JG1Qy5vnUHi1hpe\n",
              "WgWjwAAFtAAACIlBmqpJqEFsmUwUTBX//talUAAAy29f7hz1yQABCfIvKNQ2Y3CKJtBBU+5dLdzY\n",
              "nSpjPO54JOQ//+1SZqnfcUueHk8Na9TB8P2KKOQltIVPXlaw7KIjOllIFe6CR/3h0Dmk4M3eSYt/\n",
              "bHtirZwWchfRTGvx7nTR+y5bA9sAkO42B8UbeHkG3dI2fgCHITRXx0oPUkqNrt0N1ICOiGXHm/sk\n",
              "iTenYfUTP3KxTmnakr1qBtWF60cR2qVqEGkxfQn50CgmRmV8UEFFfRA75nYejwOIh9BjCvmrnzaU\n",
              "lCTYLSKo+ty+1M9Goj/rCVXvCwdYg+GdvZEhX2rWPl78DdIqdaBQBpesd5dK9YnpAvBMvV+1wqn+\n",
              "m/nIsPhLcd5va9kbGBNLWtQMc2yEKMXyHrhXkD7Fo2/ZAz3wW29sP8zK7cWntRE1qaq1hChdC8uG\n",
              "HaQJA77cF9+vHM04Kw6/MxWaZbsLvFH6gFkD0Q/9//49a8dyjEffKSGGZUXVaqyA6hzojPlEFVRI\n",
              "r51m4jFs6x/ZeOOBV/odtmC2q6aDgcBWmt+dBVGeAc6jsE+T5tlyk4O1OYT932A6qTHAoS5BzQ98\n",
              "NM1SvVjAEf4rsQAFTIoxy2pJgeG4tZWfNAu5lQgJuURHTkMastvT/c53BFE0QlSh4e4xnx/7pd+L\n",
              "QoT9PGX5/V8u9wXRMH5vknhmuEzW61J0pGC1LmSp7JVnK7STfzyXepFk7Yqcn1g9DlXxcZcJYXeF\n",
              "a/UcwoAKMN0YlBUZYdcyUY7GYnH6fMlWCqfed8PbAcdNqi675t+a/JOr1V2GGK52C9vOBwy5kIim\n",
              "QHKCq15ioXCgQFJfwgguBP4Kj+3eBSZXQTob0CPvNAbM3qqLU7/GW86UfbLUsEJyX7NaRNiZyke/\n",
              "1xi3d224pDKHmVXh7nO75s+cptWMVEHyYksUi4w2aI71foi+gOOCBTSQgZ8qtz1vmemMY/kMwcnx\n",
              "sBlRtEthJ6Fb2PeJyyHEdcp+DBxH9F5v5phtBYIOwcqHa807vy3ZFWzZBipNNPE1iu94ZCTjdYoU\n",
              "ynsOkN3EHlLw3GRcjgN3+2PTENrK33IbQR1aARN4lpZRqFXZC3VZ8VteF2nuCjeJ1MQVyrkcCM6U\n",
              "2/Fh8/s4gpMFyVsD4TU4lo9yEQV3CDWBm0uwkvRALW2ShuhmAeLv8gchH2xJv5wQO52oEmUeMnzD\n",
              "HXjMD92TBgxzExRpfBGtdOE/1F/njKMtVGZhgJrRTb6B3STWTyckIewV5XRtJfNOYLTgAnoassjQ\n",
              "7ar/6M7KJv2bPLQz/YK16uk779ORXVPtfQxw2HxxDfyICfTMGr9S+5OAgNqsD73jksKQGNVmwhnH\n",
              "3Cm1/neAlWgMM1KJ1T57OqL8ny21OeLoWAYi5OWudtyo5eYDLdKBtWO2XNNUPj7yFc46Bc4mGiHq\n",
              "Krnu+9BdS0vUYF6gMNBG8Ct2ei3CccKnaHvLqJGQbcseu9t8R+DZY3QbSP+/+dez2axX6DtZQnuD\n",
              "3VGAwLZduA1jUKevuIT39e217/lkfK7I4M4XXqlX4bBQPjlw+j2opauigmgfFZrukK2bIIC9E5/Z\n",
              "mwAK3CEUJMQv0KjJ5IlVbj2Q521Lvk2B5mJF0VzQeiLEeeV9AZ1+G0KZ6AvR6/I4U3zO/WrJacRy\n",
              "Mz83Z2pnFr8Ozcx0J5sph/a5nsTcdlTKCGOb/ORdpgsIeQBqf4zFVgrY/9/r9AOmFUIQwvK3eCI4\n",
              "MZEAK0yKMcw0gQcsdgcrQYi7laIBuPhm+9tv7N7IP4kUu8y2VDVYN9kxqoOeONmYC2QI0CdDaDrI\n",
              "HcH8S2rvEWx98BBOsUuyo+wgdtTG/9+lTLjVY1ypY0dXr/YiBIaoFraWdpRRx6xIrult1n8rOdAk\n",
              "sZogTOYmmUlEUm9SgWIRHNqVlZFIzs3VCQYDH4nzQpj19X1ASEY2ZXgkwpP1s3JzQcK6WcauKNio\n",
              "6aUAiH2vJ6QMc4CKco+nTujhLoZwXlG2b5+Zd3QK8BZpnpfA7dYd0ev1l6d0oKtfs9I9c4ijEDrb\n",
              "0AqPaHulkesH8KzqdiQvDCCWT8t/0XUaM38yYz+DCD42j8Ug8yOsrgTvh1oDv0kRELR3oiCkeXNg\n",
              "+3mwzjxhumBd5e+l0YVn9FWHIq6S0JdS1H+Y8qYFqunObFWcvla+2samU7ONEWla018sCUuQKUdS\n",
              "V9KpNAvuf7TDPDMfj7ppR5OXGLuPUhOsxz6Ii4NfJ2mvYFV8V221J2vZMvxKc0k7yTUt4qXB0RaQ\n",
              "JLsibAGxdifn49jtpiqCWbK+XppL46ipAcKzLXBKjD+5/YGXx+8Y1swNHlcxuMrTkKuI5tQd7pPP\n",
              "2L3oM4WUbQTohAhne03rljvTLBF75F9KVlR2BJkHsW6Nvdf6+akokMfCwNhMkIY9nNO41wGmLaU1\n",
              "zB154wthde1wkR2F59P/UqNP4xk3kfEStrUYFhq/l6ap1jE6ixEK6P6AO0Xl0Yv3IXxSmUQnt3/w\n",
              "EeyoQG6Tc2NtIDHSvHJX8mBe5+YPTk1IwmeUHVar4tJgS50UbVEuiMI58UrNI8LTAqfpcaV+G61S\n",
              "RbnbUMZGVN8DXVdmp1I20RLaSgCROBReQVeZNQ7viVQBJjgNlHnXrx0PW0PG2zTxGz58gTKoI4Rs\n",
              "mfm1bAw6bcEUt1PgQXNsKl2/nXj4dEoC5MHAGg33MSia0kZXE2NtRgDrFqhZk2ShU44DbgAABt0c\n",
              "AirEBgln3y3IKc2iMByuOBZVd8jCbYQqBL+/IyNRfNGbIWFHFqJmqsnP3A3fAIg9ovds2bVLWSXZ\n",
              "0Ek5QKxmQayLnz2eC7bOSAIhKARP810YIg5tP3BYidv2ljIoaPHmZG1VB/vgIFSmbdQ8Ji5qW4wx\n",
              "D/MCzD/+n6NX8j/bZJq2uoBQRDluzUuDGXAAADKgAAAD0gGeyWpBXwAAAwCGT2reUuZTk8i1j2/n\n",
              "QAfuyqNl7siSV0xtuB3cQRjrDzxna14QEsJoX+DdYEbM2k9RqBOyuX+DhxOgoJPEIdMpb07Ton/l\n",
              "oOh7fObNfLbtEqnK2sUCAXRaMBvYh5Ql0lXurEDYEeH8FN2D3TEgIezJEWav5oOE9iCE4oF8aQqQ\n",
              "qM3umVmmqme3XdIgAVsFrig6KQAybzVS3prfW1CJMVQdjauxtiOEszF5Dy33X1DTDTG1lTN4s3SY\n",
              "Glb1pRAMaBAze7ETxvyJnlv1CR1X8yCLiMYdVPL0o6XmRkftBE4KE0Fa2mXurfVejnv+qg5NUlJs\n",
              "9ftEtZ7eB5nOKpWLxTbCtcoRNT0og5gn/nbTlMqHu5r73DJvEz32huNFMiMv1mJRbXakxNs1NQ4e\n",
              "yBnmKgfy3fkraOWJ9eZ6oshBa/IQlG35383e+r/PsD/CU3XxqBITHLYvSraLx1n/43NxirCQGOJN\n",
              "HMNgLVx0NrHf5QwTfqLRFxfP4Q27hva1J48l0RlSVi6iwDpmwwGxoqVCC9nTpzxi7S6HPWWyE4YV\n",
              "aCRzmbibcHwflyKaKShnHOe3Gh60JxK+KfMBuR88JWsJI6YPunxqyz3nTv6+sKtPvye9SIghSMY3\n",
              "gSgHAZZPBpStmJFCv1TKToBHz3XBiLFz6wj8Jy41Smwl+A4oXSLljMK+goNMdo1eTm6v++EXIzQM\n",
              "juUobwfedSoZDJtSfazOpODq9zJzzk+P1T4bRxW3rVEptLzynE+1+JAJ4HqDgbMWXpznKHMo4KJX\n",
              "MaL1zrjb3DvBpSvoe/p6/HArE+S6YwAzjPoPYqDb8MVA7M7eTmsur5WScu7+pJuiH9rfXC13VRUb\n",
              "7SnigD3BLJlaDItAcV8VAMPnyaTiNLsE4viQtTNvx7PlOwvpd4odsYN3zyJqI1/+nWOxCbbVc/rk\n",
              "NwPcUz2XDQwJWjS0o7yZnrb9rZSRYI0rkFSPWxt7bBk51QUp2dPxT8zDyBXDp8s7DrjRfcwAToN7\n",
              "Xs4Wg0HRvgznXf++PUUxN9AbeITV/UlbOlU8fYf2T1rZj9A+SC6D90BDhySpUo5EXkBlV7PucaU+\n",
              "61CTTIEkLQd0TBc9x/9eiUt5WC4HjvFzUvTcbo3QOEgAABTW3EAt5IZB/vIP89enULXC70O6vV03\n",
              "bQXcatOZ4o9QAAALQaPwFoKegAAVmoMWQHXY9gtB14KnsDLsZDrxliA/H4kfhes6HRgi4fOCaOpT\n",
              "LzNjGpf89GWib+xgdW9dA4Nd0ibdwEu9egSk7T8E18g6nmft2BaHQAACvwAAA7Rtb292AAAAbG12\n",
              "aGQAAAAAAAAAAAAAAAAAAAPoAAAq+AABAAABAAAAAAAAAAAAAAAAAQAAAAAAAAAAAAAAAAAAAAEA\n",
              "AAAAAAAAAAAAAAAAAEAAAAAAAAAAAAAAAAAAAAAAAAAAAAAAAAAAAAAAAAACAAAC3nRyYWsAAABc\n",
              "dGtoZAAAAAMAAAAAAAAAAAAAAAEAAAAAAAAq+AAAAAAAAAAAAAAAAAAAAAAAAQAAAAAAAAAAAAAA\n",
              "AAAAAAEAAAAAAAAAAAAAAAAAAEAAAAAD6AAAA+gAAAAAACRlZHRzAAAAHGVsc3QAAAAAAAAAAQAA\n",
              "KvgAAIAAAAEAAAAAAlZtZGlhAAAAIG1kaGQAAAAAAAAAAAAAAAAAAEAAAALAAFXEAAAAAAAtaGRs\n",
              "cgAAAAAAAAAAdmlkZQAAAAAAAAAAAAAAAFZpZGVvSGFuZGxlcgAAAAIBbWluZgAAABR2bWhkAAAA\n",
              "AQAAAAAAAAAAAAAAJGRpbmYAAAAcZHJlZgAAAAAAAAABAAAADHVybCAAAAABAAABwXN0YmwAAAC1\n",
              "c3RzZAAAAAAAAAABAAAApWF2YzEAAAAAAAAAAQAAAAAAAAAAAAAAAAAAAAAD6APoAEgAAABIAAAA\n",
              "AAAAAAEAAAAAAAAAAAAAAAAAAAAAAAAAAAAAAAAAAAAAAAAAAAAY//8AAAAzYXZjQwFkACD/4QAa\n",
              "Z2QAIKzZQPwf+WWEAAADAAQAAAMACDxgxlgBAAZo6+PLIsAAAAAcdXVpZGtoQPJfJE/FujmlG88D\n",
              "I/MAAAAAAAAAGHN0dHMAAAAAAAAAAQAAAAsAAEAAAAAAFHN0c3MAAAAAAAAAAQAAAAEAAABoY3R0\n",
              "cwAAAAAAAAALAAAAAQAAgAAAAAABAAFAAAAAAAEAAIAAAAAAAQAAAAAAAAABAABAAAAAAAEAAUAA\n",
              "AAAAAQAAgAAAAAABAAAAAAAAAAEAAEAAAAAAAQAAwAAAAAABAABAAAAAABxzdHNjAAAAAAAAAAEA\n",
              "AAABAAAACwAAAAEAAABAc3RzegAAAAAAAAAAAAAACwAAK5AAABIpAAAEawAABEsAAAGMAAAHRAAA\n",
              "AZkAAAFjAAABWAAACI0AAAPWAAAAFHN0Y28AAAAAAAAAAQAAACwAAABidWR0YQAAAFptZXRhAAAA\n",
              "AAAAACFoZGxyAAAAAAAAAABtZGlyYXBwbAAAAAAAAAAAAAAAAC1pbHN0AAAAJal0b28AAAAdZGF0\n",
              "YQAAAAEAAAAATGF2ZjU4LjI5LjEwMA==\n",
              "\">\n",
              "  Your browser does not support the video tag.\n",
              "</video>"
            ],
            "text/plain": [
              "<IPython.core.display.HTML object>"
            ]
          },
          "execution_count": 21,
          "metadata": {},
          "output_type": "execute_result"
        },
        {
          "data": {
            "image/png": "[encoded data removed]",
            "text/plain": [
              "<Figure size 1000x1000 with 1 Axes>"
            ]
          },
          "metadata": {},
          "output_type": "display_data"
        }
      ],
      "source": [
        "# Create animation showing message passing over iterations\n",
        "fig, ax = plt.subplots(figsize=(10, 10))\n",
        "\n",
        "kwargs = {'cmap': 'hot', 'node_size': 1500, 'edge_color': 'gray',\n",
        "          'vmin': np.array(results).min(), 'vmax': np.array(results).max() * 1.1}\n",
        "\n",
        "def update(idx):\n",
        "    ax.clear()\n",
        "    colors = results[idx]\n",
        "    nx.draw(g, pos, node_color=colors, ax=ax, **kwargs)\n",
        "    ax.set_title(f\"Iteration {idx} - Signal Propagation\", fontsize=20)\n",
        "\n",
        "anim = animation.FuncAnimation(fig, update, frames=len(results), interval=1000, repeat=True)\n",
        "# plt.show()\n",
        "\n",
        "# Display animation (comment out if saving to file)\n",
        "HTML(anim.to_html5_video())"
      ]
    },
    {
      "cell_type": "markdown",
      "metadata": {},
      "source": [
        "## Summary\n",
        "\n",
        "In this notebook, you learned:\n",
        "\n",
        "1. **Message Passing Basics**: How matrix multiplication ($A \\times X$) naturally implements neighborhood aggregation\n",
        "\n",
        "2. **Aggregation Types**:\n",
        "   - **Sum aggregation**: Simple sum of neighbor features ($A \\times X$)\n",
        "   - **Average aggregation**: Normalized by degree ($D^{-1} A \\times X$)\n",
        "   - **Symmetric normalization**: Used in GCNs ($\\hat{D}^{-1/2} \\hat{A} \\hat{D}^{-1/2} \\times X$)\n",
        "\n",
        "3. **Key Concepts**:\n",
        "   - Degree matrix normalizes by neighborhood size\n",
        "   - Self-connections allow nodes to retain their own features\n",
        "   - Symmetric normalization provides numerical stability\n",
        "\n",
        "4. **Visualization**: How information propagates through a graph over multiple message passing steps\n",
        "\n",
        "**Next Steps**: In the next notebook, you'll use these concepts to build a complete Graph Convolutional Network from scratch!\n"
      ]
    },
    {
      "cell_type": "code",
      "execution_count": null,
      "metadata": {
        "id": "kkDOERz0-9o5"
      },
      "outputs": [],
      "source": [
        "# Optional: Save animation to video file\n",
        "# Uncomment the lines below to save the animation\n",
        "# anim.save(\n",
        "#     'water_drop.mp4',\n",
        "#     dpi=600, bitrate=-1,\n",
        "#     savefig_kwargs={'transparent': True, 'facecolor': 'none'},\n",
        "# )\n",
        "# print(\"✅ Animation saved as 'water_drop.mp4'\")"
      ]
    },
    {
      "cell_type": "code",
      "execution_count": null,
      "metadata": {
        "colab": {
          "base_uri": "https://localhost:8080/",
          "height": 1000
        },
        "id": "fXoBPyR8-9o6",
        "outputId": "1c79cf78-ee5c-4403-9b22-ac7b8e64f44f"
      },
      "outputs": [
        {
          "data": {
            "text/html": [
              "<video width=\"1000\" height=\"1000\" controls autoplay loop>\n",
              "  <source type=\"video/mp4\" src=\"data:video/mp4;base64,AAAAIGZ0eXBNNFYgAAACAE00ViBpc29taXNvMmF2YzEAAAAIZnJlZQAASPttZGF0AAACrQYF//+p\n",
              "3EXpvebZSLeWLNgg2SPu73gyNjQgLSBjb3JlIDE2MyByMzA2MCA1ZGI2YWE2IC0gSC4yNjQvTVBF\n",
              "Ry00IEFWQyBjb2RlYyAtIENvcHlsZWZ0IDIwMDMtMjAyMSAtIGh0dHA6Ly93d3cudmlkZW9sYW4u\n",
              "b3JnL3gyNjQuaHRtbCAtIG9wdGlvbnM6IGNhYmFjPTEgcmVmPTMgZGVibG9jaz0xOjA6MCBhbmFs\n",
              "eXNlPTB4MzoweDExMyBtZT1oZXggc3VibWU9NyBwc3k9MSBwc3lfcmQ9MS4wMDowLjAwIG1peGVk\n",
              "X3JlZj0xIG1lX3JhbmdlPTE2IGNocm9tYV9tZT0xIHRyZWxsaXM9MSA4eDhkY3Q9MSBjcW09MCBk\n",
              "ZWFkem9uZT0yMSwxMSBmYXN0X3Bza2lwPTEgY2hyb21hX3FwX29mZnNldD0tMiB0aHJlYWRzPTMg\n",
              "bG9va2FoZWFkX3RocmVhZHM9MSBzbGljZWRfdGhyZWFkcz0wIG5yPTAgZGVjaW1hdGU9MSBpbnRl\n",
              "cmxhY2VkPTAgYmx1cmF5X2NvbXBhdD0wIGNvbnN0cmFpbmVkX2ludHJhPTAgYmZyYW1lcz0zIGJf\n",
              "cHlyYW1pZD0yIGJfYWRhcHQ9MSBiX2JpYXM9MCBkaXJlY3Q9MSB3ZWlnaHRiPTEgb3Blbl9nb3A9\n",
              "MCB3ZWlnaHRwPTIga2V5aW50PTI1MCBrZXlpbnRfbWluPTEgc2NlbmVjdXQ9NDAgaW50cmFfcmVm\n",
              "cmVzaD0wIHJjX2xvb2thaGVhZD00MCByYz1jcmYgbWJ0cmVlPTEgY3JmPTIzLjAgcWNvbXA9MC42\n",
              "MCBxcG1pbj0wIHFwbWF4PTY5IHFwc3RlcD00IGlwX3JhdGlvPTEuNDAgYXE9MToxLjAwAIAAAB03\n",
              "ZYiEABf//vfUt8yy7VNvtguo96KeJl9DdSUBm5bE7TqAAAADAAADAAADAAAoAvC2XGpYCTWuwAAA\n",
              "AwALqABqAAvIAa7Fv/+FI9h4gCmrhOnrywmZORQb5hksdk4nK18Pp2WlArR37m5LtFSSbr4yi+Ia\n",
              "7bLVO4gT34vZ6soXWM3QalFVLk2L1BpEa2lL4DWe/YkzdmeATDT8tcI0/xPwg+MfZ52XsQV2jArw\n",
              "WSOa34DknSb9QzT5Yc9UJNJuynURYuj5EUVOpNcXgi2+n7nmMwA42MBxAkRGTP6FuFdVhlM04Ivm\n",
              "Xl/+A+WVK9vIWf38l2IBA4KGOYOfKLU3dwd6lsvQgmnUZ6wQh2F2jmNEnBAdKyIfgUOdJV7OGOlZ\n",
              "u3uGqatCCVaHCB+fC2zPJK8gD0MGZ+i6bWl8ZgnROd0zr9QM56v/996Gy3Au4CPasE29jFRDy/0b\n",
              "9YR6Ju+AQA/CoTRF7PgE6LpvpXWjSecxEjiLyO3ydyHB4+hAGghygn7vcTvWMhU4E2NsUZLbOACy\n",
              "Dx2z67QIsn04QStnuWQTolnZEqdw7+LlL9HLxdZ1ErF+lnVvLxa1bmZRb7Koq3U0TwgLV0BopaGY\n",
              "opsFWGosUR9mteQ7jXZNBM1FIaNLoR55UkyYkVIam4ITQx0u07TuND3RL6hKFG04jnmzVd1dFlvf\n",
              "/txVoP1pV6yEhF1cUjnCTBu+M16F2betm9wBLq02q+MbjbKcXtX4HcCW/w5FlxfirHKtimZEsX1w\n",
              "dbgOg1rwWfISaxEw9pHQsVuPOTNsyn58vceXu7b4MYUomdS+RQjCyKjOPkjdQ230w3eF1yHd/obX\n",
              "tKT9NrjK1fFxYcD6a67cCqCQIKyZjlso+Rc4QTteBRDDhFA1HyviGU/wgXnanxjVjWX4OyM1B4Vk\n",
              "IkfEviWANVbtnCQLUAL19Ap4NUM3ZNiNdXq4O3kuT1eAUabjknCH1FaXTGVbMlac/pirMEMcrm8U\n",
              "RiYx2oAf3kNXwrRS6dzuwwQCu/Ewmr6jQ5NktwF5Y7bmd4uDrXQ95iNjezFGFd+3WmlO6nxx2xje\n",
              "+4My9trWi6BYeTVlEgnApZlCI6SQhUWR9mUvddyX2ZhWknlwTCyCl2pyWIBaRdUnykzneiwRkseQ\n",
              "85sG0pGihni9AE4ZvVOW/65En5pC6gj+jDkuDwrrFC27JHABuin/1iffvDNWgwQv/RzqjNr1OIbr\n",
              "3OKK304HwJDASbPUuY2G7qPATAKkKp2XYGuybp1hiFt99NmpTHg7QYC0xaN7TXpI5C3MAmK+xnvF\n",
              "0714aG/7+EyutgQu/c6nxMo1rv/jDjqF4uiKL/PCGSSvQ7/q5LOJpWU7D17Y0Wjbi76IeCf7vhbz\n",
              "dJDyOJGx77k6ufnkpkZtV3L61fznmts2hcwJFckZ7lA84iwA+uFsh4QsLIg4pcsXxwV8LNiy2LB3\n",
              "0Di4MYESR5O2Bdv//51Y75grgb6IZYcJjPZ3JUcEn6ZKsA+HWYnz3MfRrnyD+1udu+I2DNeHnr5z\n",
              "kdqHosoR+6QvYMBl5kcOEA1/xu84LCVL64Gvc2/w3KlCyx9zf5Vc2NiFAnDTz2WycVNtGt6AA7PN\n",
              "CyAX6pCsLukU6A01H+icSc0uOCgxkqJ4AhvT3t8j3Gdywde1USlUx6N4yhjBpJ3rXVuEFbh+thmF\n",
              "cChFkbR4PAdZ8U3biW0kbA+E8E6yHs4k4Q0JI3XjvE6fTHW9ZFq1gfnZoOg6sIcRv0rgHtvbMRyb\n",
              "tUBfYD7cfgU5PnblU7eWY4SI86SfUUgiq8If9U04I4D5PPjs0lkCOqr0saKRcOlw1SOV+pNcA0RY\n",
              "o3B60CQE5DvvPD2LqsKaTdMAYELoIqqzDd29Wyd8Qvcu8jI0g366hrtHEBulXx5uzLuLmD7kvwIY\n",
              "8hcCQkXHZsac7yz7yfoiDfk92UjmbAOnBQuaCl+F2EJ6j9+hHXeA9mgdwulRcN6xidFycVIpWRLd\n",
              "HXJkyZbxxpr5TTTAKmQ0TSAWry5WZ7TS1duuBcUsAAJOlC2YICTymIcO4uusir3wvCDX7tGKotGV\n",
              "Q4lGHkLV6Sa3zRImkPbhGQVDdX5K912hkm5M+80w9TnwAAAvOcytVKLYU0f67t5PuTkYXgaH5CL9\n",
              "1oR6UIUrZg4hBsUaWqC48+SA4sGYCyqUmJbsePMJ4S3xFfE7/dAOvLlQAAOI7ZK3smz+oqyepmnz\n",
              "5ix99dwDDeGfkExb+Wq0JsSiys7jH2UIf7ly98HZmWVIH4gJZ5iJ6rt3NYa09RAAB0AWPNCVjW8Y\n",
              "bZseGVRDExPrFKTsYBma8FyO8sMKRPgzUj0eocavsRlYMtLxx2ep+K+m0vO6yweLPKbjXHTjfpas\n",
              "e1+fwUmgAAgquRtmGayPLwQ/VzQGpNvEQ91sCd7zFhtaqy2d4eH5HTmdzH/e9LcqF1ahumn7rE73\n",
              "lxHNYZLZ3hJfWQyTgyEAAfzdrPKFjwcACGYgKxSsXAYl5Czr23cz18TujN/pzyuWNzyKGS7dLqqe\n",
              "HxeC0sbrOXi+oiQ/ISLG/r+/GQmSBgBoeJtAAAUAHP9uCLKeUVJPCukUn+A8KOIXioOnFfhWmI1k\n",
              "UMESaZM2xiM752W0gWf0bFnZ5Alsi3/c7XPHBZfKa8QAAC69suxGbyNyz/hxzUNG+n5Czvgk4IY7\n",
              "8W1LNmOUVFg6kPZxnA/SwiLu5wGUpWtI8WTze3MhA875mnnHhxoze+w/teti6R5G52mHATyVzD4Q\n",
              "EA/hAloQ+VctqWYb2eGLE/iCH84owULHsqJ4ei4w+8J4JfPbgT5cEO6aro6oi/IVFJIEs80fw6Eo\n",
              "KHf1OhQoRl8RRdcZVPJnn9R0qpxSdWDMSXx62yKOB57N1ujI0jHjDM+FSCFRR1d8Bi+CF+Ww+pXI\n",
              "5+owO5naoqgFKIXQLjN+WWtyC2oq5S7gAASE3BVeQO2r6d3nZPyVmoH5roNrt0VwGerf0TfYqFjB\n",
              "i32hIIlBjeSK2MgD9RKhfPIGzAuxGXBUKcp6Xsvi162QJGBtAwWdJSP5vNxH8Z5hxeihkEG02RUZ\n",
              "66uqBk4zixFbcdC2mW4y8qkOSOiQ6GzdZfmEAAAUlzrVlSi5N3V0FkaeG1qW0+FUawvliZj8mFkM\n",
              "3L3CfQtf1gePg5E6us4NmQMgjJTgOL/xIE9erO6TQCtM9FIfNzrEjIfjghhky4lcBmu1PjzlFGDz\n",
              "rFVGoeiUHrG9BDU8BKzWaAeyUOppxuvsv6dBI8JENMQXra3FPo+7/NoarAAAH2MxaSM9kvTMTgUt\n",
              "dTE84ZJl6A++BmRNQl/VgRzrn2jjmcUWFZlvAZk45mo5UwoHIZ7Zmn1/z8VdAQT4otwreYnDcOCL\n",
              "PasmXb2llMBHv5MdwDqNoC/6yYAQF+mUOWQ57NUzy4wzugcHjOfmRuYt0TtUzC/y7aI0Oxh3JDRQ\n",
              "Ti4k1Y+n2SI/XedsgqVy8JCjsgoR7KNqQu5a9tJULW0+u9oLeKVMX6JgzMZyxHVWX45n2Ox/g+wF\n",
              "PiJ5KmZMzyivvHU752k9MCVMuEIRUrtmYwO+syTTo98dx4eWV7GOdgtWYH4c76PrnjqFpFZi81Ys\n",
              "fpdRUDwPyKX4rgLg8vIjanREpdf14yNhTPHldA68KgV/bxcaKk70BXQJI/OhLmdeP7otJWPpWdRd\n",
              "o+NJ768Bp5btfizYd7rcQSpJPYftS7wam61kXisRQ+tP0mAW08ZErHgTQt/l8oR0cHBMoOAAGYHz\n",
              "SwICGy1CPvIR2wyu1LIpIRhlqSVF7fmkSCwFvXPZmRDdIWOZT8WBSWnrntvXqb0Xo2JJoMucS2hy\n",
              "8YRUWu1ldRRcr5vVmyEuk6BfRnnNxRiBOyMTyXWje4ELr60EQowamNpBUctbNQBrQoB1ikKBzOOK\n",
              "MWwp1z36bQgWlfWCk5sJ2YziBve0eViNRvPIlGoBjoi7vpQWgYDYqaFuDk+5dYfuWmBL/+OkR7ZQ\n",
              "oyysjQ7F4/TqJUm05JcMmMUsbP4Z6yrVjA4hZ+cc8xC3qyHvF11KpZoAACURuv1zcxAkDc1yUsSw\n",
              "reiSQEpSa8Fhc1VbqHm2M7noU0sLhoJb0yW3cp0cdc3prWuYVZcwBrkx17hwZaL9sGS6NE++NStt\n",
              "CvPPWndt24Hs0J9uGnMSYkK3+BDtn0wjiW9Q2Y3g5wqTBq8b1gbRqg/L4ICTGcxIkoySaRNvZGb7\n",
              "MnEBdI4e2yb0lJOF1FeSmO66/BBkC3Ia56yIIa8pbuVBjs/1zmZFgY+8ne22llnhWEfkBrt8KmKI\n",
              "y9gIPk4CRsChxPaLjtZXCwb3rljfvcEWlxiAR0AA1oYo96337aS0olhDEE6yMfNTtPOTaZUD78M4\n",
              "K4ZCyjRMlY9hry8yptvntfa1BacNTbU0MeT1feWSquM8faeJnETcuamQzvUU2lNMEakKSC4JkG/U\n",
              "sMnivhJSTNypfcihLz1InG1J/shczG84otyXQjwjIfNB6e9uBLIZwnwSSMsrW5KSPFXZyD9Wd0zU\n",
              "hznpftg3UB0dtsTnYh/4Mj9MPeNLL7cBNoiHgecXXh4wEKbw1d39bMJcumTLvLXZOp8ZKGiURVj5\n",
              "XVHokwEMW9mIAAXbr5R8hvU96Jc/ykis+AXX6znnfZ1wtcS+qtvD27UqlgKQ3XC+E1vHTXpTh0Yz\n",
              "u1+UxAArfn7ZN3M+Zn0kHsDNkQWJzLgJtVsJvscvEa1c7pmBMOh9QbtaLWuvwX9MpbdO4BuRfNXG\n",
              "N2cbcJRy4yGN+FK5VcfwIgUeLzST8gGMij7FfkSiNd+wNiuPHs2zbpaVC+3ZoPXuBATxSOZ1yBtx\n",
              "64bFGHRRc0lTUXLAJaog+azIg/DIDJmfv2jcsjIZnVeeNFIkPd/7qVKKehYp+UGOZFIsrPI39Lmn\n",
              "UAAG2BbqCZ6og0TaPu0Ly4pjEuxEttTcqTVcMaGV5dA+DZ7woIfBxY/a1jtOjup5VAh8uZdUHd3E\n",
              "cHkk6VgukM4I+W6L6N20wPKu2b9/mYG2MaP1rI90UzSliGNeST3MHvWvCkewefR7d9C9g/EpTabO\n",
              "ddMyfzGmcbdOd1sw3x+t6s5Z4bjp7mkx6fH7K7LC7j6faAXNlFQguxa3oOpz+CAEFm1NUfkWTjwS\n",
              "1Z4/FssuOwby50+qVorkFzzNVZqtHWHvIJXy2gcw7cX5Zr/eNjroeY1UOXq7qHkDrMUAA+rzqKpD\n",
              "gbGqRuZROLrkamNOzyijz5G5iWp6HqXKo52sAoYeu4mazdobtDZGB2Y3QDqzHrJ2ELajWWkUoVXp\n",
              "geNznoJaOWQBkcKPdd1ip7FDPbWwnSFELBAV1Dxmr4dpYzwdhJ/Rk/ntHcf1arZ0doGT+OREC2ff\n",
              "jsMdg9S79x497oU0o/3R9fxfVf+ILppCjW2tEGwyM2YDJtINz9kxzadde9hjKXDdP7vxKeSKJBLW\n",
              "7spbIQqll0mT6dS+BguM5+R0RTgfNuJFZrN/0Zml6aGzX1OPYx//j6/BZOISIAM+C6tL4NyHCZSo\n",
              "CbLknr7QSVM/OyPiEirb/vkz2jXuXPSKCm1hDGP54AfQ8iWazf2kY8c4vYDuVxEgFkU2MUHWG3ZE\n",
              "juoFrW2wB1rWgU3lHCxibF5g5VC9o+R8aAV/4Q/EzOr96NwUWCgDFFmYQHUpLNkqDxodBZT2fQ3e\n",
              "Vz46/kqwacoF4XZyDlEn/yt1xEMrxY/lUZYW2qdpBD46EPYNb+ORC5oiHmRmUzaQYSQqdwsqGQhi\n",
              "rdPk+Vo+zt6lBAayHph6y1Jo67CCKBm86IJbeaqyU7uq2RYY5hwWACzn+bOjV+y+of8kq4cjvcSb\n",
              "+1PtXXhaJ1wxsJmSJIt8Lk9wVhK3i6leWSmdZA3G6PANCRzptgs/aqgq9CQyBM/xhH9ywKQ8Rqe6\n",
              "SjkRIeP7ijjbJpBDTg3bwxmPQG/ESQ4S9Ed3MPXYBXVvka1GAbgb71JZRPbyoLrH/N/c4bFvhF3X\n",
              "IXW5M8NdDJl8eOMGSw7UZeLUfKEyXaXYIRxZ0Z6qBStebGqG/Sqf3rUXox/ztdgpNCx0/r0cUq3G\n",
              "JtqAvHSUKaUf6CwUmg5UIZRAZK3NaFaQ+M01rIAhAFC8pSGulezewscPg2flTNL8T+tDhVDvNNQh\n",
              "Em+1d/UGwJfDn0mDp1GBQ0AR4tzsmcq8ljwnUZma5N4cuzR2sybnGSvm19KmP3ewfujq/tmYDJqf\n",
              "TLosgzsxqd9A04uV/mQtz/n4arhOCmMY9cCZDg7KnK4Ib1Im2n54hYOh0jeV7R8uFl0xWL424jjl\n",
              "NSenG2ka+cIjbiiACr2gZxFIzfOdTXPql5cmbMpwoG8EFIVSeN5b/GvQItqIvelx8ZAls7uKqlUk\n",
              "df3KLakiefn7jmHLoAjplF4QmvxbqF/JCO4oLxVR3wDB50Q9UF4rPOJ6PDAQYD6oWOFfHGGTKyQp\n",
              "KBqKhL/SAnfQJmqhVlKb8NWgGqxuxw/yY/lIBZwvMm219UIrpZwq4M3PjDp3Yt4u6AvmDFD1sJsQ\n",
              "rJJqEqtI+cj1sZIj/G5ICu9Ug556kCC5KxVVePglmwup1L7c8JlwkOBl+XFyPMUYzwua2ugz0DPy\n",
              "wV1n9PiKIR6tT5HZct47T244GDvROIV+aNYgK8k7r6D2AZoOwM/J9ztws0LFcGg1X+yEmrXvAkO9\n",
              "OXCZE47p7r7uDMVv4kGV5R6b5lGfbI3BduNtYZkbRt4Nqmru3mogVLFSIR+s21+OKrNTYSy7Gmb/\n",
              "2O0DsmX6eIpDuz1omdE0QuH3GdfXvRUPHA7eWAAaoNlD3J8dVanFJuqQSjKA3m61TqhgpYBXXDW4\n",
              "bo8zMoTKi1cZdZZQ2CFUZL29pn7mR3oJySAJPRx2Qoxf1KlC37WdSt9oTirgoEwBJAJI2pf1rDT9\n",
              "cD0Dipn5Z/5O2UYbEgPn+nmol0WolQiiT0rvujtmRKxOmF1Yi2XM8dE6WXDZZy1vi/8R8iOGiKw3\n",
              "rGxh1lBfxk/3nvK/ZyErS/bOF5BN3QZ0kj2FEszGcqXrLaCdrrjHbhRzlQ28K0/uWetnKIthNqZX\n",
              "rm6ezKN3kOSNQKPQJgjgMFFNiFCy5qMlnxIiIrm3X3dBo/LbvYVxW9AOvSAPXZJTcCPlFy9Zf3QF\n",
              "uLnCP+Cocz+J4QWut8UHqKPcMSdfYx2mTr5S/SWPR2+QyOO1oAIe3qQEfTobur+qYAF96soZ8Bj7\n",
              "k4+sBdxfhO9CUTrTggcJLJo0NwKK1403HStqk5bZxZqqPWE93LXt9CalvNpXM3c10dwP5f4+FgX3\n",
              "PFFSpKay58/CPrabX8jxA+81avrim/52Yp60imD+oBh0XLn7nc0NI0OORr2L1XgVycOWwdci7jrR\n",
              "UzTyICUDd7jDuZqxo1nqeAKHg5/zkKRgdBNGsAPh96JuNFIzShORv7a82S7qI6CgJAC6bi5bQrQq\n",
              "s4lEYaoR9Inu3OOEfqj2qT921bBryiQioq5jHYI8EhVhlb6mbz9A8ifwsQszGgW1d5v2D0xo8+uG\n",
              "If5gtv3UvPZhC9mli1raEGL52tYjmHRrPyHmlmO5bm/TZJ6RUqxKwFcWR1kZZwBF8BL8VaDYpLbb\n",
              "LA3olDIIN/WY+HS6OPzWTJWdLCe/lkS5rmOG1lEGNOOHHcAMsu3ei/DvbcOi50yyMEl0HIpE9wlv\n",
              "l/Qqd1AE+2tQSDa4r2pd+6L/37TKzoVnZbUkkWr8DSPlwhp7X2PNY/w3l3V4GlgtmN9sW+QWYtye\n",
              "qrSpy3sDw9ezdym9iy4Nr3TCsAIKPq7dt5EbTNeNz58L7DErTM+a5Ikl8tiazzoLGqoI50oiCgBx\n",
              "NokQA3eEGk0LD5yAWdbyVwoHUGMSZ2gymgf99SraPiyXbPXY9InqDRukkIULQ4zUqY/R3tlv71K3\n",
              "wGSoVUAAHIWW7kSQ5Qmp/bIicaN73wg8a7GPToV8ajUs1p/rb8yguRwqXu5UMXMcZMLrPZPPtIAI\n",
              "znrniSlfV/TRTtlhTAACW7NZwUVDSSRj8RYXvjTiRg80fYfsxprUUooYUcTabuLdW4ooYrnhHMKa\n",
              "xqor5PSu8PMcTKeBixYAAGMBXx1ZpiIq9fOpiOWxu0w13X6kc2p7wx5uMAO/rWbF2NTvoWnqeHHP\n",
              "2kagLAOGdHQCqwOGeGDaKH7J+21+foAAcn+qPvYiACmhnbD0nUn6I0PxAVeubtkR0gcTFvdiWuqA\n",
              "mItiF4ekIRSNJE7KNL1RxjTIZClqL80AAMkaCLKy3+vQRtuyvljxMfTatazmpr5fkvUllNHfFmM1\n",
              "k74zrrqlXd4LGB7aOXa2fTC4fLchtC/8/NkQO5y3MJsAAAUiaQt/6gyxG/sh8rxFzbzJAl4kIRUU\n",
              "IDPZ8xENQ5mrDVA2+ExuENTlghxopgC0fHgDpJGVuvQYJn7FAAEGNT5oaGhKft3GNpMRkbgyO/8s\n",
              "kXa8WZcd7CoUazmsCPcaGsPHJSi9NmpJW0SxDVGhOykFo3AJ3J8QmpYA0IY9MkdwAAbHuQt/6g4x\n",
              "D4eZqwZbNqUAX3jLPJsjivrTDJPBE1gMWp1dJ0onRDitq6VoFkRfE5EWdlF82e/f9pEQ7zA/SxEM\n",
              "rCPMq4FBU0//PHr75TOHQVsfqGXrVFEz6qufPM79Kkz2G9RdiK3r1yX/zDc5skEbPZnExXnYhde/\n",
              "zwKigojNVjqeWh4zpnEA5F/l8ti6AJ3v30mx1+7D3tTN1uxexFKU4DPMzNBiNi6YAMX4xbfdWmsh\n",
              "DmVdJjyxPF96MCKYGK6QvRLD5PqIUb7yW419wsGp3Nnb6OCJtyz7eBOEkGfzdYe5zdPVCTc3NaRa\n",
              "nb3iUHV+prqDaTm9zMOKHbEuLo2zzbkTGWEZwrUmAoPkTB01v+elSXT/CBtggtM2jSaPGXthWBHf\n",
              "GHdp8tvK+dGdxUX0E/ZRfbvi92EkXJmgHPv2SPdyp+kc+AEhysXwH2k4/8mruLb7HBTGNDBXqZmd\n",
              "VN4c5FmKmPdROON94/tlnmOx16a4qYNmhXLxVsaPrvQ7Nw6N1KXnIE3vUGjbjVOZYAPEcIbcXSwM\n",
              "ToY/IgOdpXTQP2v1g9TE+NKsPMsNBD3eIjRsOjgOpzzJv0GNGLU3vZ3NXWn03lRZSgr/zipIdIYY\n",
              "anS/2taSjRErWtFbrxP5ipy/2hgJSzBVsLJbuntx8GUzTFPFNoN6lVXsOqz4gG8ijmUXwIDmLvBB\n",
              "l+563X6zSWqPIU5Rei9jOxwNWR+bdJDwyu+5oV2z37/32ljzNMMHKhul99DSk5XWTN3E8/A7T08G\n",
              "nqe13XlUhK03v85jaSyiy4U/k8NE7mD0F9RGLF8ZP2E1VQBHYTHXWn/cCAFrHxZ2BK08N8q+X1b2\n",
              "ZTu7GtTmN9TH/NzOih9JDDv+YCSA0od0ADEwTYgM7owvW23O8qG9UPJq+qLLzfUd1xbtENb4biYn\n",
              "0LAE1FwZrHeKaH0OUeBAAtixo2DT3wO5vpqYt7xipMKi4+MKOpWo9qb6D8dy9a2iKDqJ+4VAJIUm\n",
              "p1/xeDV/eEWqUlQDxyfudFzWzQgCPC8EzUijUOCgJZmS0g+LRuRXP+aarexnKxNc2k9INJxI2ReU\n",
              "l234A+cEZjl/Hgf/YPD8XwSkD2LdzEsAAuwRU47stLJ3l/cCt0f+iEyXVX0KOifV1t+DTCgdI/RU\n",
              "U4ttTOCCThlFrz2klVjisGuHsxdu36OqjvNsrpzEGKxzrQzF6tNUfiUW033+sr3GG5wQwr/XykZl\n",
              "4I7Ev1pGMPS+64wEBqLLMeTLJeltuVHG5jwkh2qLGpVP/cGoDhPqT7xpm+TdahDLkM9eOiQ4XfY8\n",
              "5iV10JhVZ2Zmv+9RK9aNo3bJp/SRCKw+I41MNxe4R4VQJKfqPEEaSfiI3FhfsCKdDEWmtI1OkiQ7\n",
              "tuZatKtnQA3XIwzdgR6NEutpH0Cne+C7XrAAC7wLnYJtQ3RtKlFkU/W5k2GZnRUaapAErP62kkuL\n",
              "Lh5ZLxrKrLQxiVpR4+s6rM7rNGbzbOmNbFCkq5nfbP6aYAIJk1oAAAMAAAMAAAMAAAMAAAMAAAMA\n",
              "AAMAAAMAAAMAABrxAAAOKUGaJGEYD6GVIAQFBf/+2qZYAACYOxSgAIVsQVWlay5C2TFxYbHlv6aU\n",
              "PssA/5qMiLTfTU/AM2QWDzkJeXefP0UVqz4hQL3APU8rnu6t2/G30h+URRkxzihxsNjM3ID1/AhX\n",
              "teyZcdmHSPXutJqxh3OZboZaU5yf8/3dVm9eC1DT3JDW/ccLbYScaaKLxRmB0tqAL7edVqWVCJFe\n",
              "WG5KnMTUF0NrV1uaO4ZKUughm/sCS4qig9ITWJsa8xBXhCU8wiUHkQMaVQkfPQVzveqOaJxEcPar\n",
              "RIPGQurNZyH1gwMa+ebu/zP78d7WPiaK9LKwNSMnEv5GeB4lcqgxTwwYjrd/DDyZLMQ8enQsuv9e\n",
              "FPclblE9Ri8jh1y06n+LpcMIK6rQzwfH5Kx+NplUh83rjVxsxpQ8TKKAZ/su5tjAtOT2YzzFsyP3\n",
              "cLZd2h+bleP8yJYrD7F9xd0P29J9DJ9Ect0Qmm2PoDHXL+956xI5Lo/cIwlGtbYLkUlPB1rWOvJR\n",
              "2dkaexrs6Qk4fQkYvn3APr9GeQZ7nqklR0Cqp0WgRQtPMjYoTvujP1iUdV352uiPEfHZqT2/C/eO\n",
              "S7tGe/QU1SEPn+yCcGm4xVHztS97DnNhcCN7w9X6su5aOOTK9XUXK1o7syYf9U+tHet6bhfayWGl\n",
              "KYb8G+7wMWMe+zXHJntx4p9LH7ExkcJt5KdiMQfSMQuT5kZJduqAnUPvWMAiXhufgTqt70KnNkCS\n",
              "KCm5jbydJMR37/0xtgUsb93/fueuJIj4BBEDdyHs93rMz5dGEfyjSCewkxiP4cA3PzzWhtft7iRi\n",
              "fgC3qRThFU95hh6fpSnjtv2/gLPH1lTU1APhDjtP65pxK0AlBce3Hq3CrX+Go1b3l4fwi5dctGW/\n",
              "gzDDizr65zXv2pIErsqZJTh1uqH9eUDsAQGQHiQZ4xPdLAkY0B/3pkun4eFSJLWWAQrBcrvOUWLL\n",
              "PhSKZ0aSDVNuMngtitiDCeB9bvHwRZ9TAJism3hB/zoZa3MqSA9NIl3PSNbFeYXoZYHpuLGqowfo\n",
              "KRIMNFjH55HgAA7ahe8CI8PNixzuanS/Lvk4D7Yjrq2jpvs9dsHA4PsPbHQyJ24tQjfPu6U7W5O8\n",
              "GcABnN8KQuU5q4VR0ekN4SfEZDFOkzs9i8fTP2WGQO/T7eWinyOA6IVg4riWxK+evOIOHizP874o\n",
              "Pk2j4G7nYuQc0krLZoryOnP15DSAsP61XlPE0oMANev83omAAAkeku+zASTtVCa3ek+ZgAAkcW4s\n",
              "GhLMnykwz1WvNQ+dmdnc3EPRs2okcjc5t4du0HxMp26FoLGGqfQU86Db+mdqLZRgyos2JOtAD9Va\n",
              "zDyUNKaSWa+ICxAhU7ZsavlCOngT8oWPoTjF/Kr5csPnQPLWd8OaTPPRqWsp2y6SEjHRZ5YzH5Nj\n",
              "v3YZ5N3KxRmKYmORRsMyaMMMkY7M35wA8cGzDxAKYyAYud6qfRWjXJ8qNTDbRCpKUf3TJ1/QTqS8\n",
              "8NbU9vLv4FfmSNQ3ADHYdqEyGiu2b9EJwYikD0e9c6GqspVkY3wvh8grF0WtnAG/2wumI0+fqa/p\n",
              "0JEgdwMpQXNiAAJ7xR9AC/L7ngK0xJj8tOx38Pn06LQK9c8XHmECAonrU5mBRvfnwe0lz5TGr9KM\n",
              "4WHEHquseQECfYT1CrNrqOnsmNBwxDbGw6ua49p2WPFGBoo5Z9XyO1SHsWQTjoKhPeJ1huJgH1cW\n",
              "mAeD2wIxEm+8Wa79z6JuCF7SsU0rteXdhZd4nBgG12MLQ10GrbHBBxPIbSV74KqZIRMWgFNrJuef\n",
              "4tknISbAKMj9Hm3/dSPYvftKEeLo8ca3ubVOl5z+AVXg4tpmaZVMjoEnR7Mzhf4Wuo0YE8MI71+1\n",
              "jLpuh4zhLX8vU+Dy3sG7hi/NxgPYUUo72Bl6A6F+u34pNdYQcqCPYtQycRay1aZ1KoxsnYbi9oyd\n",
              "PJadEA97vcPPwe3G27bskjk3OWrQ3DLJp6fwyPa3NnzACA40cBi3TUDkqtHqEbRoNj6DsVJOUp2n\n",
              "FKHkycAbeKbvvcMVWrbMfXB0CqVdRuLtGA8by0vhQnYbDDOiHv8FoIRnS05gQQxLPvOIhrSVyBQB\n",
              "aNHuIQgp18iXDXSrCzB0TR2/ApFPIlyfcjGtmAAJmM8mzB4oVqPCN5K0SsUj4zrDO0Q5O+k6Zfik\n",
              "SFikH1Cix2T2cBo/Xu7yCgyOOjQlzNG0ulzoWXq/EB0BqlDHSmbCx2Q4x6c/NuVrl4yBgHLE4nFM\n",
              "OrnPHXXcHDp8wOdwfXufWzF7lEvaMfXfi2prU4d9eujwVlcVDaunqrXuAcVGcaLd5YT9IzDSlcP4\n",
              "ycCV6FqC0HCSSk93F/IlLw16iky9J5hEgwD5T7LEQkk0BwFgY93ggquoO8lS2/CQHZiMuEqT8cl5\n",
              "7HXJyPEXHqml449mndipu7/ITPzp7woWOG1+MiXL4qZtms2hHUgyER0chPVsuTEcnFzyOznHn/EF\n",
              "+Ww6DPCQbOXSijCE+o+mOuBLGFW/cDGgFM83yejLXOzkaPnD8enFMiZ0NZXZ1hgttSuR7jeYhkJe\n",
              "u51NM+mVJ6xJail1HbQ0KE0v3hlXX13MHQ3NpDncacLvsCta46yHyOJXmT8kXyBibwTxbFi4j8Tb\n",
              "2Lgg5Lp3iT2ZNG+IyLjtp+QBQEiJLq8cDn5VbcIgb8Ob73uJ6/Fu58W921bp6hzdrlUNZfiZsiX5\n",
              "mY2VkCE/7jIZKYU1NJpSpACRsioIBNlh6l43Vf8hdcz/vatLM7grsNIwlpWLN1cm5L+/U5qfZ8Co\n",
              "Y+p5Id7VzlBepOLeVw1Ktq4ANNBzRwyB7rbb3H8jmQTPNxjpW3vTdI/LvT2uIUldukEvRHD6oB8C\n",
              "uxb6ZlHNhJMI+uh5LyQYzuljO4EkaSROkc8mxEQiRv7/BzBEPGknAThg5JWWPUI8iqtJo30Zagk9\n",
              "waQ7C1iRJKVp+CSuRYEDgQWsVqMKcalSH+o5rfkuigu/Ci1TNV0Dz/6jnVIzi9yYXxbXFs18RFR9\n",
              "0pwW3zj8ebaLT/IN77jjl82+BgKy2Crwfe/vAGysaqgpRYsEJIIMO26VKo1qp0pz/VQxbnoAAwbV\n",
              "mkVIFiJe1Rk/Un3nkhSPvrELzpl5qh0Jr5lOAFhjOc7qtyRn1lpv46wxLHGPG6zhK8Pqb9qjJjEz\n",
              "YVyKIsHC2aStArtV4bq/MlmlVUgAAESx7P9smWGpqN1V2a//7NQB6a//jcMf1ln0DR3YrwNgwWl4\n",
              "5/cqAGMTcK5+xNhYTb+cu1asumO765FqHSJ+zZDX/PFPknsUXBJ8HngejYsUbs4mStP28c6wRC8c\n",
              "V66Jpg3msCybV7cDkl5s/JRh1oZ7Us3qVJGBHZkKZiufyRoO/p3GZ2A6G/mBp4DepH+gwHD8SUdq\n",
              "5e4iQwDaL/EoJwJ0IKvwOKlz7AF+wRLjVPt6z49fZIaqkmqhYxdpHRscvvg67V7Ur1tKS6v10m21\n",
              "ku8e//8dXNT8Qwfx5BIn1newdtz/+ycoUkrUIw9SbELvjAvnsUzwfimhNGmFKfzQpj1RtTtDdU/c\n",
              "x3R3phyn9zLhGQSVtRmlg5Uz+DeFzyPJEtrtzbBNm31kt9h5ymbtHA79HjqEKQq6ACpuiqdMhjVX\n",
              "AU7DllnftUpDmCFRO8n60WWUtF75dOnOZh+4lth8xgYmMI9/CtYHzqtba6+CU9zl/sROqdyx/FDf\n",
              "TVULT7m1Brvmsnpyc5TbYBB2xUZQCl9xDeY3N5on5CBL/BaJmgb/qQvVMovuPgIrI1sg2dVZflb2\n",
              "2wQESPkT8bpG+i8PdP5QZFA5k+MRIZR68ysCLhXsOLwIMoryYv7Kwdmzs1TTc037oOZSdc821mnn\n",
              "Xq+Hp5iJwxPuqti3+xQzMBTk/gAfh8Why5XhXDW51IeLh8gSNJ5Yoi1JM3m65fkbEVxRNKCWJFpH\n",
              "VLlbW5RIs/5bOXSapwIbT+DUEO3aHi9zQqDgO5/0HJms+803MeHtrzpC3ItauUiNN59HgggDxnCv\n",
              "OXvfJwgRp/FN9t/rM4USFP4g+4M9VW8otIDG8V6+08VEVr7OH0dWa3Z3493459vScXssxvrj1sOl\n",
              "Ci3RlVXToQ2n4pWGcRgNTpmqPWOtcwxiCz2z8sqhY0yEitqa0ucwx+xcEShARNcCsf86W312fE1x\n",
              "WUPMT7bVMsFtrGD4EVBDlruK3IIQn4cTwVvPNS8vqnW5umSdeqD9kxta7qVGrJBPJODXTIjePwDT\n",
              "/fFmPgJ9iHeUWbCTlxvB3DRJ6u3Zbr5QSDZO1nqi1Km0xgrZG4VF8V84biKDFoMGTH3BPMdfZvl5\n",
              "O+PPtpElaBdoCwVQLbrxgq/NNJnWLl+98CAJ84WdPz1lEm+4mKTw0Hh7+ObIgN4q7SBniLuRuVxn\n",
              "MHGdKiy6cpVL8DUUpvRKO7/R/EJb5pDox2OEm65lX/rIvzXfG69MD8Oqo4w2PPCZS/ZKPQpbpxde\n",
              "pbB5cUiCMXw6cVmmUX5VX9+6OKEOZUwNbLOhWLjRVPTq3keOPYXGMxeTmf7kRg8BrBSyJIYhrwfs\n",
              "TGUVbt+eIuYy2G9jtuophZQ3paDGoEN5HIJBMJN3KsD8+eKX24BSIUY+etoJTk1CNC4BGyYOxl1s\n",
              "pSyoec9F7HsyT74wBa7HwRJyd9DKPVCVNyR/5IRk9qLO/kEK1BxNVm8VQL+cUJiJN9+OLIxJJiRE\n",
              "iKp7ftVZKP7ppeUCZG9jlzkTT9oXXm+4lh1wOX9dwj9JO/0iw2eXwg+3brMVoKzawmBOomnKObsu\n",
              "5OoEsQ6/MO5CKGbrl76jvQ6vqv3gH4dInNjHPp2Be7aQS1K09W0LaHfbN0R3TNAAAoYAAASeQZ5C\n",
              "eILfAAADAEEWmd45LHXah5QABu5/VSi0D3Jpwpde1KdCkuo7mjsF/FDpO457jDVmcCj042Toa0zr\n",
              "SMnjBC/SGywKJ+fYNSkkTxKfBLS6WHgkChO322PD9bTa8T88ErAOh5QSUzV9wi5PYO9m09Wba4bo\n",
              "R2+oXfygtxF+ghbZftydtSzwwbs1J9mhaq290RkQHbpQjcQZ9PrNAP0DLfbFcAS+NPZ+ZCwgh2n0\n",
              "4ALgocKeXpcoWdjUTsov/RYVey0pbarUCh5iJtR2S8hX8d3qsymwtriH+iMHyQ62RMoXKkAKE/Pm\n",
              "UCKbx3xMM244i77RdP5+Z4o9G+gkpI6w4ZUtyouMUxVOn8MEFwL/jgEZqkLq+NSmwacsCGkm0YhX\n",
              "7h6DfVDhgJHdOgBBeODBepb21RsegHgl3kPsuV9/kCGiKcxt6TyyIrxhRur5DLgu4kD0nXB3js0u\n",
              "OzLOOXlMrbNYgi2LHvfeuu9hsPVm9EMUfGbSgouP55z6OcEUvO2mSMvB9DeG73D2FiQFR4WBhVBN\n",
              "x64eOULAexvpseMVuZyhyc+eRzPFaFHHiN35syuTTlsieU8rgqjKNnBg79M7o5v3kePztDPQIVa5\n",
              "jWyArEpwiXFe4i0zTOHf3fIyg1PkYa8owTV9P7txPnZDlz+Jh9KRLYb5fQczv9vhHKhpdPOVvpSh\n",
              "7lGPDZGuRkK9KzXKojTwz/f8Yv/LitPnHm821sCgEL0mvZM35mdPRS7F6VII9/VXBxWuRUx0+lSn\n",
              "SoVCMKOM9K2vSezvHKAK54qeSUjny1aOk7IGCAEftWQt/JCzZSwmOU6yQOzID5jrBSCHz3sAFmju\n",
              "U96qrfF54qfE3ViVJ0ymf+zQedsrfX+pP4sEzJkdsimpJsDT51j4osxZlpbwbqNRdejSLtdsebI1\n",
              "8TgyHujGor2blxtrsaNDMwXDh5jwtK98R++IIVpzXXXav1081XWSRx/w9B9QyqLt2ECz7mm1Nyl6\n",
              "nfwYJGqJfWaRzNrERb1tHL46i5AIe+BI9sXAi7QGxLmFwuCbm8iwVl+fSMwWlfs5kop5oalPbAO5\n",
              "QuvYV+vuj3RT6slhDFLw4fEWLTrCbLOxQFSoA/VUqHQwAAADAACZgk95IgSh4/it41o+T0UdJfTE\n",
              "TRpMDR4K4MZOtj8XP0TBBN5K6qY5GbrSEhLkUZmrwn8PjuzBfAilB3TdFzstIP/CcB1/txDnfdFV\n",
              "RUKqEfX7oVz4VPXCvC98bBDFXbrI5dyPZGn90Z5+nozLGy9F2T4t1Kf7yWxl6vnHgIeNLypm9mM2\n",
              "UyG0qGRj1UetRFwpdVJ/pjslLKiDXPtUiXRwTT+MEQREQcMbefpl9pcLl/fNqlUCR3n9gUo70cmz\n",
              "5mEIUQppcGNmWgjIAZN+J6gkWlW8hc86JQD96KFk/F4RX6DoXigGVTfj0oZsXV1W4L6N+Vf5yln8\n",
              "w73YHHZKw8PwgC/E1NDy21nzeYFKXEi86Wj2VhgYX6W6mqFDp45Q97AlyBCfSgo7zFOMySaaGI07\n",
              "mSb/bXAD2gF9Fn7n3Ej6vNg4ST+70iCDH30qfM1t+cMDLgNUAAFpAAAEHQGeYXRBXwAAAwBcu9uy\n",
              "jaAEqyypdGGRcrsyd/i2cj4dAJSU9dBluQ6drZmkyohMYoy+GUs0Tw2tfRZ93hyARgwm0AMLk7v2\n",
              "H5xY3CW/hrYHbeqf94abTS/Xm1TKSb0in+882YXVjwyra8jOPfLsa5/1HiDAD6iecZLxKmx/1tQw\n",
              "AANxrySNjfKNFSwMrBYm/pd8MxCg0GsEBK0YIIAiIC+D0lYqlcF4nYhNnqAAAJCI2I/sh1sS0Cl6\n",
              "HUHkfC9roXZX4s8cALmSS6S86Fcm8RUkK0otsGsBnvTCtAmfHGaNwuUSC6kmeU08sxwYjsKOQv7o\n",
              "AaToVViXLfANTX/xP3hOEApiwOTsMl+uK14JVqLPQr/XuyFxDbGJwnjlD6X1blMXkoXvFUyTAHQ0\n",
              "iGkeNiEvANjec7+kc+23pjQWVANclkPA2p3iYicmYlihpMbheYoKnOUHKkyXDSrhxDGnz/JvH4kG\n",
              "88imUgSOtbIX6LQrWLAE48FwqNVlTgtPEIT3hkytd9FA83+V8rHNEDlIIR6cScp0Bqt0pj6BmwmM\n",
              "G7JlDbNfEwmilKGP1OO2zTVk6q7U7HK2Zg+OpkRYJ+ApVmlzqax18WpXwQpSWZo+nO4UAqxM3Gw4\n",
              "YX4oZyu58HGXw+rS5aMy1IdPKgyRRxhAC5Ec1enc2bxzRsXzN3lMmqZeGvbSE7pmQC5PAmXu57iP\n",
              "WmiuKhrCOe2UsGgPy9XG5U/7cMjZAQ5MpvYDzwrOV8Qbbd0epaPQtWmjjTESAF2ob72zELNoK1iu\n",
              "4Fb9VrGXMWtn31rBCzf20r3iKnW5g21DJhH9T9yqkprv9O+oEK64QkPjwf4CXIrsljRPm9axXEu0\n",
              "2r4Beo8IgATr7qDVlLiTmEOljPqCtdNN0bKF6QAFLUt3s6NEQ3JLO3Tvb4L5SAWwX0hWgtpNJsKZ\n",
              "FRMMgChfW7TdiuO7hmgL5eVbWzZIYyDnr2gYY0pueaPVOSj1bQlyNCMM/eiNvbTYkE+AWkUUJMOR\n",
              "ID8cAZFRV7IMDvcZBAo56NlNcIyrRFqi2+MicKqEbgff6qecFDkKTqEo5icNQTH5pb+SQ0+mF42I\n",
              "qBu5LinbHpNadFB9tIf62mI7u/IsPs3N8KgdetSGFHBXon7cJO0Bp4UcyVfOF+9RUv0RDzhHnvtw\n",
              "INdVrzMEmnka0WcjikBi3aHP7piWmdRPiCNG9i3qUPiz4jMEEFKpj3/JUptsavpSriQANK55WSjY\n",
              "nHIHxKz7xPc96wyPK4Bh1sr4I1OjorFUIvShd7PPqBrtBhergQMdVg0kHLqAHurfPrCtGZ9B20MP\n",
              "TN9rx4r+0hZNB3Rmf02N5RSP0NUErX+2lGhJp1f8NRsr1qmnpzPvqh5DyCt4jmyfsSEYabIXgzGy\n",
              "OecWAua5CrrSAAAf4AAAAbkBnmNqQV8AAAMAZq2jFmiX4PADcCUObwnPiDQ8tzNwkUS0+fB1bJUR\n",
              "XyP4EjfONtBcLvPbaXWI1/3OINpPz4j+whDR+vVKfFcXR6+xtAuUoqfgAc+PsZDeOsa57I9+1Db+\n",
              "Xn2MenBUttkx07gGPxaYeU7INOS5RrpYz+7fJlxvdjByxsIDZylRgB0pH0W8BC3AychGR07GH/Qv\n",
              "fy/FGIILnZeX+xaMVkwASAV2rD5p5LBhvqZxufwh3SjojVdHOYvLOBOG07uO6zhIf37ZRSMxRoi5\n",
              "IL1Bsye7kDYC6GrchpG+sdK+mv5dtr+1PTfxC/+et29Ob0cu0oI/4MFzIaReCiEEwiTILCEycFkf\n",
              "txVxs8PJRUGVbGrRKcy6Jc9vTiNgzcEQTNETn4GK6o+ePfa4ll2ZtJFSanoDq5sqAF9oR4iDbrev\n",
              "IV7kb3JD1VFdKHvbqfY7MKXHQ0MYG71VOS/qtjDaZ5WjIPvwa+4qxOubCnNH3BSSqicDhimfkaZn\n",
              "ZhYkPv/khK2DigiEWt8v8guC2j+cUfh3/VehLN/aGttuRRgJ1YsxfOjKSPHwOwNiBb+gdqx3iAAA\n",
              "Z8EAAAdSQZpoSahBaJlMCC///tqmWAAAjP8thhkEVYAcOfnlPrN++718YlVzC8xg2c0R76n0imq3\n",
              "kl3wPbiC8JTNWfAlSbuo38bI+GFOkDtPPnC92HGzHGzSnAklm4Bu2P1Ekm3xoHQV0I7HWwe0g+HC\n",
              "nfLEYiZ0Qr0WB3FAPqOa0ezNSmRNMyzCIFZ3oCNOF0ojxcGZv0Pvzsx+HJssYpzXJ2YMXAPgJlt8\n",
              "4yz59CnY0wqBmpLaf7nMahe+yPpJySf4baFgctZ5eTbU5oMcl5lbCoO6KsQwlZo5uCcvD5GzQAVK\n",
              "Jam0yUPBBxYhrjykrRc/aUd9Hdp0rX46Uv5/hGiTPA/f3OCnEYqkppzN95RjfdKa/9QglcqEy5Nn\n",
              "LyNieKJbG3180SewzhfDr5G6vDicw5XNDKTKr/nxDm1nJ1ToQ4lwGPoe5XF+uO3fBODifdAIGhjh\n",
              "0Iki3JVU/Kf4heiOFM7ye0kOETzMq1C4QdNrsEpcJDyVPdBjsBh/5jdwpsgs0REPSOULeC1GE8f+\n",
              "sAbaFuxEA1F4RPm1y3wzICHBSsi8v8dE2ijZ+XZ5icmVanY79Jlc7VJTCaefLGR3dGK96j11x7HC\n",
              "rFUePUsHPbMhqNWBYb9W/PIyoDje/s8uyv1d+aJ4kny9QpB7bYjta0uz6O4oUeEMDyKqm49RISZk\n",
              "esLykZIiZv60o4/AiZaaYUjVMVYFZPn2OpUWFKVcqVdV4XzZSxThMWcH0PQ+bQ7/fJC5ToqXZ/ij\n",
              "wtPXyPuHCibWhHPkI1iiCmDGwCjSMiUBlnEzoBIABeMDdq4tC7886RMbC+GjJSU7oPodC1pBte7d\n",
              "SqlABT/fKqPURaxW2ZI99YfQ3Y3pxrjge4sO/omgdK2Ww6aq38ttCcA7Dhav37m/FK8boZu+D003\n",
              "jVxxrxi8DmwRIkSsgvLnzLfHWs0tXmkWyvkU/2lYw1cZ5uxOc2nBE88hbeCRAsudup8+j6lQYVLM\n",
              "zKESEVXX3+uKMXmGM2Vc+BHEkbVkQ0dQmfGChp7Qy85vbZbSBAMAfCggZuojFP4rjMmU5UbOLz5+\n",
              "IeNWiENWwt7E+9WOaKslA8PU8URB2o+woatf570ocJb7QAA4N4BspUBCr+zqDzqsdLe+dCZxuinE\n",
              "xmUhpNcnJZGFhgkprGqH1P/qjCS1lEn9qVI4ExuTNlq3CLVxzTDrWOrZjsilQzqLKSnTHkbNJiiW\n",
              "8KnzvuvSrEBgSBn8Lwsf5G8IH/9+VILB2aMP/Mo0exYoF8w4j+U9UMy6ETC/UU2ovlBIWYDYXn6R\n",
              "92Stm70FVba3GyQGSEhaxBYkh+0FBjYOihWHnHJYUhlG+qPNv5tyCoLiCAEQx1tbi2ZiHmX6Wvyf\n",
              "CaarwxVl7jA+lVMg+md3qu/vcCVJJrB5UEvZ4Kh2vyxZV3cUwtZ6RoXSwVd8BsYqLvp6G9YcPtZ5\n",
              "KmkFQQ7hRAxuSgzbKvMmDapmlupzk2RM8EQOqQ6aeigAANr6/83oWMDpCBEwcT46mgasJ5/hglV5\n",
              "qjNOFi4TLKsUmh3f7HSwBdKeT8TJHg7mz/vEGe6cpalvgPkCvkCDJQJe75pUwnChLRdbcG5hbc6o\n",
              "MSvJ7dIcdOTIPZDzYhe8x+Q4q1lRK3x49FHpRRT37gr9cfTMKSGWXB1cfKCE8QeTfqn3oKN5U/mI\n",
              "GZ1OQDN2FEbi7EYPcS9hwzfQgWCDo2pDrAACwxjF/zP3lROMOCtDD24WHz+s0XCZ5T/90aHsEuQ6\n",
              "O3zF/ZH8iyDdkQDsImRr2bhVNuDC25s5gl6JwfWhQQl+/cMlYP7xGD9ZdJe+b7JuyYYIDqp2mtEJ\n",
              "cGbGYVDIzbMxo7z0nMiHjEiDO/pgAMZZUcj2iE16Sf8ZZRIYL+fVkQ3d+aOLcuGjV59MFdGPiJBB\n",
              "fNYN1tuq2IbzkgSBn0XMU1RZzdoomh5k4nGbA4ID0BDg4PvJg4XQvVJNN8AuytDCsnz6ZbedPBGj\n",
              "XL36kLdESMh1Qf+Nea6Gr8dDbNsDVYxUvLe+axb8nkxguchdt1hjztk2jDQeEb8pefiba3PgHylx\n",
              "80C/obj1WadH/3xGwDvC+EfsiJsC6TQYRmGeRCqKlXkX/TVSZ6la9h90NYtlA9rM8XRRMbMgcYkY\n",
              "1Si/B704WNOdD9pMDwrhWi9MeslQA8sCEjileVqrOnLDxuhOzzcD83RFueWqHUSBGWzL2NBZY0sX\n",
              "VHQpTHc12hBAgNcwdSdKuGn1FnenEzSw0ZmlorS2tM6pSggjyG6jpv2RqR7g8bW+cnsmNAen9VFY\n",
              "0VZbXWq4lDi0c0UN8K8kJpyEfPdJZ7grEc53VzqHd7kLOcG6D5PBx2Ta5hluR4wlW+aK95MUVibL\n",
              "PYGS/JyITtVCaulrRSh9oNOqNmKT6XWSBwgzqiCebcY/3l/M3U6/RJo0NhbYeHsz8FMmKn0uVaWj\n",
              "Ye284QDija+eFJpyG3TVQSzIJ30/LTE5+MNyUZ9JsPMVFFJV6kkoYE+fQTcFDHHVCuzngwAAEvEA\n",
              "AAHGQZ6GRREsFv8AAAMAQRYSU/RCSTXIKJJAQAiWfJEewzq698ir3cxIWr46lRht3UNIUlxHnNqQ\n",
              "X4b0fdflmQwWAqvRD54p8JhDPeOizhSJCuFKp4YL07ihWbVM/fSZmSyASFcq9DovwHa2R7Jq5zGw\n",
              "rD1x8HPoN0/Dycp8xMig6kCRmRFZkBl0kbdgRP7/twh2w49olsKALRMQJm6rNK7VyHnqfpLfmRVL\n",
              "n+pUAPDp+4gz+hp5IV5PLcr3dyVGjzywcabY8dR5wj8ZGIgi0+5+758q0BDL7RZHfojB8kNp4L9p\n",
              "o0Z548d/M+kxmHeYGNytnThQo9QoUbCvb52gctUAwKUoBoMmJ+Kbf6517qAScXTg7lGBD/XdbQxw\n",
              "R8g0u1O11TGnIuw/hloVJuPFAD5JabQZICAR/L+6oNJxaEDi+/IsF5JTcwByDC3J0/Vl5GlfVjgT\n",
              "DmQIbRKhVqQxhLAUcEPDrymQj96Qq4ncQMl2RCMxEjmw0CRrsSYHZXoCtaHvRywiPEqzIXn+18Ip\n",
              "ELAerg1QeOb+5RzLSBsI6aosoScCO8lffT6UBH8eLIjXA+ejk+8gnGnXNRo9fQ18aN15GC9gAADU\n",
              "gQAAAbIBnqV0QV8AAAMAZqpcTPH2oUACc19TylcmAbY3fS9rw6Z83ozpzsErq0MOpJMGxTXHquno\n",
              "PDk6ixpESq5xq/53u3sTAdi+amnpjvB0hlS0ccHFWHDHWorXbFC3NYhsaFjLimGqpcIU0Eyzmale\n",
              "5bssxy1OX36L4kfGopD0TpG+qIUuQxZkYEIG0E8XPpc3HUY+5ES7+/knjhV3hYrKuZpdD/JdVJYR\n",
              "+BBg36CG3+pmzJrowK5k2bqQt0Lhn+wzJMEMEZq7snPA9MdupqvmnFW6CJX0U3GdEJSG/jM9dtQQ\n",
              "e5ScWACqJ415C/BoTOIDerIdv+mv5dtwR1qL8g4+xQBkP6bMU3qt3vtIIyXzncDA0WDF5Cvu8CAE\n",
              "8CCeNVdzS4XfoU5FmgPlt1WX1rZYfTAa7kK5j2kwmAl8eACfNkS5zeWgyXSZFfXfIYwEpEEiukg/\n",
              "njUbf3tx/scUOhbMPqFUsDmvt9w87+oP48nRqVCbiaBr3kMbOZJU2xM+IjGcoKEb+XsfPMVhiTwG\n",
              "biNqImSzTxaayJ4egejQ2ez6Y19JwWOrHfjIMa5wrt57bL7AgAAH+QAAAXQBnqdqQV8AAAMAZq2j\n",
              "ESPSkAC5ZIvLUHnkXaRQftsjX6PT60aT9lmB0x56pVFlT06lIPJtelnblrXc3TwHD6ZOYT8hrByD\n",
              "OCAvAfkfo6pBJUt44gJGklDlYTaH55Rp4MV7pJcN94BBcISMq5SIghxH/TpWi8Y3qvHE+PFzPfNJ\n",
              "wtU7QMA1WGgwsHfhM2xcQHlA7uuUSy9HyEt2HSYWwli1u17D0tNwMnHvmrNASzC0g/7KlrPuut9W\n",
              "c36FXrKvZirbR7Xei+Z6hVqwS8YJVaDtWvCYamy/Ein9PUgjRSR4kO5EpbBS1ZH6H69FOUQeIBwx\n",
              "VtXv15kGtMdIf4tP5lD6V6r9a4U/PR8dpwtEYYPGtjhquMd791g1w4c7VDfm/aAMMvPJU7vT+lG8\n",
              "OnTFjXpSzC/Ft2WyhKFLwc1whcEx9yVx2v0YspcE/QLJcFP4+gEbLfdF4QC9lo+9EB3midnZH81Z\n",
              "q/c5eFWk58H90MdivIAACygAAAKHQZqqSahBbJlMFEwV//7WpVAAAJw4n+CU+Tu/Pw6dQ/+kW1Jq\n",
              "oAQiw/R6ww+ADIaqblGFynVTN9jOm41YwgjVPswh+W7iJjLnmXR9BnQljWw/bxnmXWf6Ub4Mj3Vw\n",
              "C1RUJcMHBRV7KlpfWYQsZb4vVFfPw5wA5sE7lB9MojQD1C5FcIdtkeMypo4koNxKH3o1Qnr81st/\n",
              "DRll/h2lYbp5FcZvBDfU2DtFNkJuof0YlTbiZ/c0QDkrOJ4IGnhYOJci0qSh/ws+8aCZfYiNHEnn\n",
              "cqNxLwWjoGPMsUViORx0RaHMRs7sj1HkRs8AbTuObi9WtuVbuEPwkCajRC8jiGBtLmZf9q3k326w\n",
              "PlU6YCRrkh0TPd4m3jyr2ogLLXtSc/QkxtnuvkfslXixW6ZYfu0ww1ndWnUfA97gH0RMS8cN9W4F\n",
              "lXE9sW7YCbqhZ5/eSq/XAxSC7ODMopbzK+WnjP0Qc+/JMHN9dzI/TpA1JrwWQKzZBvYvc/MJGRKy\n",
              "nnmsKHa4GyGZQngAHJvc4IgJt/lNdCQGD7631VJT9g/46KWTAaIULNM7gsZDyjskdu4E/AAjvNrR\n",
              "dQr6Uq9sl8jJ1A5//FL7jChJjvfAF4nGvGA3Hjp2D1pQm0Jc20V0aq4JQ7urzyPkepC09AkHZAAJ\n",
              "U4e/ut2x04EG4Hl+3mduJ4no1ergXM9OZKxXWDqKJy6u9rmu1G68uJiCgpYrKx3XuFz8o5VCGmEq\n",
              "XS0GWMygv6PnRWnBbNZukkzHxXO+q0QRREZy7xFowO7Psvh3cSAeoSchfYEmRikxlxLEhIlmFPiQ\n",
              "hpktVUoWKndrQrX0pt1P1tgxOZPOsn117eDuhgxyjVqECMKL+AAA6YAAAAF9AZ7JakFfAAADAGkt\n",
              "oqM5CQ0KYzQAlppGZasvGct5wEh0X0BYN7YjqKR3zA89wVOsENHQmwYZkXpNYJBIiih8niw5pSYQ\n",
              "WHu7MqVWsTmN8+O3tRT+J5v8i1DrPAx7anQ7F4jN2AtQgZWBi2excOMi+5AD/LVZBWJ7HprgKVeA\n",
              "AOapehZCKf4PTBceiGsdd3W65H1Mj0nb6ngfpk9ff8QPLIGOKqf/E2Obwz0jW6Skp/i/PXUf++8/\n",
              "fdkn2R2/ZvOYD/vM0KcxhfCIwlsDJ3D+ttR7WB2a5trP/3gYccPT7G58g2KZqJvhfINHLr75dTDj\n",
              "oL2v5Kf8vEyXrEXihWlulG4i7a0iCpnINPYJpwHtiwt86+jTsfKpDF/k9A8SrFSZ+PU3ZuFl36mI\n",
              "YYSoILc3lDvP54G/52OrXkbAZFUq6jZUvR6rcjHH6t9rI9W9dEazGEVd0Dt09AW1nOizsRh7jPL/\n",
              "Um/rsX5oqHWVGfnqJQ/UU3UNlXaBP2gAACvhAAADuG1vb3YAAABsbXZoZAAAAAAAAAAAAAAAAAAA\n",
              "A+gAACr4AAEAAAEAAAAAAAAAAAAAAAABAAAAAAAAAAAAAAAAAAAAAQAAAAAAAAAAAAAAAAAAQAAA\n",
              "AAAAAAAAAAAAAAAAAAAAAAAAAAAAAAAAAAAAAAIAAALidHJhawAAAFx0a2hkAAAAAwAAAAAAAAAA\n",
              "AAAAAQAAAAAAACr4AAAAAAAAAAAAAAAAAAAAAAABAAAAAAAAAAAAAAAAAAAAAQAAAAAAAAAAAAAA\n",
              "AAAAQAAAAAPoAAAD6AAAAAAAJGVkdHMAAAAcZWxzdAAAAAAAAAABAAAq+AAAgAAAAQAAAAACWm1k\n",
              "aWEAAAAgbWRoZAAAAAAAAAAAAAAAAAAAQAAAAsAAVcQAAAAAAC1oZGxyAAAAAAAAAAB2aWRlAAAA\n",
              "AAAAAAAAAAAAVmlkZW9IYW5kbGVyAAAAAgVtaW5mAAAAFHZtaGQAAAABAAAAAAAAAAAAAAAkZGlu\n",
              "ZgAAABxkcmVmAAAAAAAAAAEAAAAMdXJsIAAAAAEAAAHFc3RibAAAALlzdHNkAAAAAAAAAAEAAACp\n",
              "YXZjMQAAAAAAAAABAAAAAAAAAAAAAAAAAAAAAAPoA+gASAAAAEgAAAAAAAAAAQAAAAAAAAAAAAAA\n",
              "AAAAAAAAAAAAAAAAAAAAAAAAAAAAABj//wAAADdhdmNDAWQAIP/hABpnZAAgrNlA/B/5ZYQAAAMA\n",
              "BAAAAwAIPGDGWAEABmjr48siwP34+AAAAAAcdXVpZGtoQPJfJE/FujmlG88DI/MAAAAAAAAAGHN0\n",
              "dHMAAAAAAAAAAQAAAAsAAEAAAAAAFHN0c3MAAAAAAAAAAQAAAAEAAABoY3R0cwAAAAAAAAALAAAA\n",
              "AQAAgAAAAAABAAFAAAAAAAEAAIAAAAAAAQAAAAAAAAABAABAAAAAAAEAAUAAAAAAAQAAgAAAAAAB\n",
              "AAAAAAAAAAEAAEAAAAAAAQAAwAAAAAABAABAAAAAABxzdHNjAAAAAAAAAAEAAAABAAAACwAAAAEA\n",
              "AABAc3RzegAAAAAAAAAAAAAACwAAH+wAAA4tAAAEogAABCEAAAG9AAAHVgAAAcoAAAG2AAABeAAA\n",
              "AosAAAGBAAAAFHN0Y28AAAAAAAAAAQAAADAAAABidWR0YQAAAFptZXRhAAAAAAAAACFoZGxyAAAA\n",
              "AAAAAABtZGlyYXBwbAAAAAAAAAAAAAAAAC1pbHN0AAAAJal0b28AAAAdZGF0YQAAAAEAAAAATGF2\n",
              "ZjU4Ljc2LjEwMA==\n",
              "\">\n",
              "  Your browser does not support the video tag.\n",
              "</video>"
            ],
            "text/plain": [
              "<IPython.core.display.HTML object>"
            ]
          },
          "execution_count": 21,
          "metadata": {},
          "output_type": "execute_result"
        }
      ],
      "source": [
        "# Animation display moved to cell above"
      ]
    }
  ],
  "metadata": {
    "colab": {
      "provenance": []
    },
    "kernelspec": {
      "display_name": ".venv",
      "language": "python",
      "name": "python3"
    },
    "language_info": {
      "codemirror_mode": {
        "name": "ipython",
        "version": 3
      },
      "file_extension": ".py",
      "mimetype": "text/x-python",
      "name": "python",
      "nbconvert_exporter": "python",
      "pygments_lexer": "ipython3",
      "version": "3.10.18"
    }
  },
  "nbformat": 4,
  "nbformat_minor": 0
}
